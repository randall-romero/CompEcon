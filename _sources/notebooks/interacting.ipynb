{
 "cells": [
  {
   "cell_type": "markdown",
   "id": "29ed915a",
   "metadata": {},
   "source": [
    "# Interacting with this website\n",
    "\n",
    "This website was created with [Jupyter Book](https://jupyterbook.org/intro.html), an \"open source project for building beautiful, publication-quality books and documents from computational material.\"\n",
    "\n",
    "Here I list the interactive tools available in this site. Most of these tools are in the upper toolbar.\n",
    "\n",
    "## <i class=\"fa fa-rocket\" aria-hidden=\"true\"></i> Open the notebook online\n",
    "\n",
    "You can open any of the notebooks online and run the code there, without the need to install any software in your own computer. Point the mouse to the <i class=\"fa fa-rocket\" aria-hidden=\"true\"></i> icon in the upper part of the page and click on either \"Binder\" or \"Colab\" to open the notebook on the cloud.\n",
    "\n",
    "\n",
    "[Binder](https://mybinder.org/) is a service that allows you to run Jupyter notebooks without any prior configuration or installation. It may take a few minutes for the Jupyter notebook to load, so be patient.\n",
    "\n",
    "[Colab](https://colab.research.google.com/) allows you to write and execute Python in your browser, with (i) zero configuration required, (ii) free access to GPUs, and (iii) easy sharing.\n",
    "\n",
    "In either case, make sure to add and run a cell with the\n",
    "\n",
    "    !pip install compecon\n",
    "\n",
    "before running the notebook.\n",
    "\n",
    "## <i class=\"fa fa-download\" aria-hidden=\"true\"></i> Download the Jupyter notebook\n",
    "\n",
    "You can download any page from this site as a Jupyter notebook (file with .ipynb extension). Point to <i class=\"fa fa-download\" aria-hidden=\"true\"></i> and click in \".ipynb\"\n",
    "\n",
    "## <i class=\"fa fa-download\" aria-hidden=\"true\"></i> Download PDF\n",
    "\n",
    "You can also download any page as a PDF file. Again, point to <i class=\"fa fa-download\" aria-hidden=\"true\"></i> and click on \".pdf\"\n",
    "\n",
    "\n",
    "## <i class=\"fas fa-expand\" aria-hidden=\"true\"></i> Fullscreen mode\n",
    "\n",
    "Clicking on <i class=\"fas fa-expand\" aria-hidden=\"true\"></i> allows you to read the page on full screen.\n",
    "\n",
    "## <i class=\"fab fa-github\" aria-hidden=\"true\"></i> Open Issue on GitHub\n",
    "\n",
    "If you find any bugs in the code, or would like to make suggestions for further improvements, you can open an issue on Github, or send me an email to randall.romero@ucr.ac.cr."
   ]
  }
 ],
 "metadata": {
  "jupytext": {
   "formats": "md:myst",
   "text_representation": {
    "extension": ".md",
    "format_name": "myst"
   }
  },
  "kernelspec": {
   "display_name": "Python 3",
   "language": "python",
   "name": "python3"
  },
  "language_info": {
   "codemirror_mode": {
    "name": "ipython",
    "version": 3
   },
   "file_extension": ".py",
   "mimetype": "text/x-python",
   "name": "python",
   "nbconvert_exporter": "python",
   "pygments_lexer": "ipython3",
   "version": "3.9.7"
  },
  "source_map": [
   11
  ]
 },
 "nbformat": 4,
 "nbformat_minor": 5
}