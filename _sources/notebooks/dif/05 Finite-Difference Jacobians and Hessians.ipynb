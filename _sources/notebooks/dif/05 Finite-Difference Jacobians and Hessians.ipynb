{
 "cells": [
  {
   "cell_type": "markdown",
   "metadata": {},
   "source": [
    "# Finite-Difference Jacobians and Hessians\n",
    "\n",
    "**Randall Romero Aguilar, PhD**\n",
    "\n",
    "This demo is based on the original Matlab demo accompanying the  <a href=\"https://mitpress.mit.edu/books/applied-computational-economics-and-finance\">Computational Economics and Finance</a> 2001 textbook by Mario Miranda and Paul Fackler.\n",
    "\n",
    "Original (Matlab) CompEcon file: **demdif05.m**\n",
    "\n",
    "Running this file requires the Python version of CompEcon. This can be installed with pip by running\n",
    "\n",
    "    !pip install compecon --upgrade\n",
    "\n",
    "<i>Last updated: 2021-Oct-01</i>\n",
    "<hr>"
   ]
  },
  {
   "cell_type": "markdown",
   "metadata": {},
   "source": [
    "## Initial tasks\n"
   ]
  },
  {
   "cell_type": "code",
   "execution_count": 1,
   "metadata": {},
   "outputs": [],
   "source": [
    "from compecon import jacobian, hessian\n",
    "import numpy as np\n",
    "\n",
    "np.set_printoptions(precision=15)"
   ]
  },
  {
   "cell_type": "markdown",
   "metadata": {},
   "source": [
    "## Example 1\n",
    "\n",
    "The exact Jacobian of\n",
    "\\begin{equation*}\n",
    "f(x_1,x_2) = \\begin{bmatrix}\\exp(x_1)-x_2 \\\\ x_1+x_2^2 \\\\ (1-x_1)\\log(x_2)\\end{bmatrix}\n",
    "\\end{equation*}\n",
    "at $(0,1)$ is\n",
    "\\begin{equation*}\n",
    "f'(x_1,x_2) = \\begin{bmatrix}1 & -1 \\\\ 1 & 2 \\\\ 0 & 1\\end{bmatrix}\n",
    "\\end{equation*}"
   ]
  },
  {
   "cell_type": "code",
   "execution_count": 2,
   "metadata": {},
   "outputs": [
    {
     "data": {
      "text/plain": [
       "array([[ 1.000000000014386, -1.               ],\n",
       "       [ 0.999999999996052,  1.999999999990833],\n",
       "       [ 0.               ,  1.000000000012223]])"
      ]
     },
     "execution_count": 2,
     "metadata": {},
     "output_type": "execute_result"
    }
   ],
   "source": [
    "def f(x):\n",
    "    x1, x2 = x\n",
    "    y = [np.exp(x1)-x2,\n",
    "         x1 + x2**2,\n",
    "         (1-x1)*np.log(x2)]\n",
    "    return np.array(y)\n",
    "\n",
    "jacobian(f, [0, 1])"
   ]
  },
  {
   "cell_type": "markdown",
   "metadata": {},
   "source": [
    "## Ejemple 2\n",
    "\n",
    "The exact Hessian of\n",
    "\\begin{equation*}\n",
    "f(x_1,x_2) = x_1^2 \\exp(-x_2)\n",
    "\\end{equation*}\n",
    "at $(1,0)$ is\n",
    "\\begin{equation*}\n",
    "f''(x_1,x_2) = \\begin{bmatrix}2 & -2 \\\\ -2 &  1\\end{bmatrix}.\n",
    "\\end{equation*}"
   ]
  },
  {
   "cell_type": "code",
   "execution_count": 3,
   "metadata": {},
   "outputs": [
    {
     "data": {
      "text/plain": [
       "array([[ 2.               , -2.000000006519258],\n",
       "       [-2.000000006519258,  0.999999985098839]])"
      ]
     },
     "execution_count": 3,
     "metadata": {},
     "output_type": "execute_result"
    }
   ],
   "source": [
    "def f(x):\n",
    "    x1, x2 = x\n",
    "    return x1**2 * np.exp(-x2)\n",
    "\n",
    "hessian(f,[1, 0])"
   ]
  }
 ],
 "metadata": {
  "kernelspec": {
   "display_name": "Python 3 (ipykernel)",
   "language": "python",
   "name": "python3"
  },
  "language_info": {
   "codemirror_mode": {
    "name": "ipython",
    "version": 3
   },
   "file_extension": ".py",
   "mimetype": "text/x-python",
   "name": "python",
   "nbconvert_exporter": "python",
   "pygments_lexer": "ipython3",
   "version": "3.8.5"
  }
 },
 "nbformat": 4,
 "nbformat_minor": 4
}
