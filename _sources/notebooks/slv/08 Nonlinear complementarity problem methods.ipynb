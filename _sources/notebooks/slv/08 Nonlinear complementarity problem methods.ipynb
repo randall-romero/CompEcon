{
 "cells": [
  {
   "cell_type": "markdown",
   "metadata": {},
   "source": [
    "# Nonlinear complementarity problem methods\n",
    "\n",
    "**Randall Romero Aguilar, PhD**\n",
    "\n",
    "This demo is based on the original Matlab demo accompanying the  <a href=\"https://mitpress.mit.edu/books/applied-computational-economics-and-finance\">Computational Economics and Finance</a> 2001 textbook by Mario Miranda and Paul Fackler.\n",
    "\n",
    "Original (Matlab) CompEcon file: **demslv08.m**\n",
    "\n",
    "Running this file requires the Python version of CompEcon. This can be installed with pip by running\n",
    "\n",
    "    !pip install compecon --upgrade\n",
    "\n",
    "<i>Last updated: 2021-Oct-01</i>\n",
    "<hr>\n"
   ]
  },
  {
   "cell_type": "markdown",
   "metadata": {},
   "source": [
    "## About\n",
    "\n",
    "Solve nonlinear complementarity problem on $R^2$ using semismooth and minmax methods.\n",
    "\n",
    "Function to be solved is\n",
    "\n",
    "\\begin{equation}\n",
    "f(x,y) = \\begin{bmatrix} \n",
    "200x(y - x^2) + 1 - x \\\\ 100(x^2 - y)\n",
    "\\end{bmatrix}\n",
    "\\end{equation}"
   ]
  },
  {
   "cell_type": "markdown",
   "metadata": {},
   "source": [
    "### Set up the problem\n",
    "The class **MCP** is used to represent mixed-complementarity problems. To create one instance, we define the objective function and the boundaries $a$ and $b$ such that for $a \\leq x \\leq b$. Apart from the required parameters, we can specify options to be used when solving the problem."
   ]
  },
  {
   "cell_type": "code",
   "execution_count": 1,
   "metadata": {
    "collapsed": true
   },
   "outputs": [],
   "source": [
    "import numpy as np\n",
    "from compecon import MCP, tic, toc"
   ]
  },
  {
   "cell_type": "code",
   "execution_count": 2,
   "metadata": {
    "collapsed": true
   },
   "outputs": [],
   "source": [
    "def f(z):\n",
    "    x, y = z\n",
    "    fval = np.array([200 * x * (y - x ** 2) + 1 - x,\n",
    "                     100 * (x ** 2 - y)])\n",
    "    fjac = np.array([[200 * (y - x ** 2) - 400 * x ** 2 - 1, 200 * x],\n",
    "                         [200 * x, -100]])\n",
    "\n",
    "    return fval, fjac"
   ]
  },
  {
   "cell_type": "markdown",
   "metadata": {},
   "source": [
    "### Generate problem test data"
   ]
  },
  {
   "cell_type": "code",
   "execution_count": 3,
   "metadata": {
    "collapsed": true
   },
   "outputs": [],
   "source": [
    "z = 2 * np.random.randn(2, 2)\n",
    "a = 1 + np.min(z, 0)\n",
    "b = 1 + np.max(z, 0)\n",
    "\n",
    "F = MCP(f, a, b, maxit=1500)"
   ]
  },
  {
   "cell_type": "markdown",
   "metadata": {},
   "source": [
    "### Solve by applying Newton method\n",
    "We'll use a random initial guess $x$"
   ]
  },
  {
   "cell_type": "code",
   "execution_count": 4,
   "metadata": {
    "collapsed": true
   },
   "outputs": [],
   "source": [
    "F.x0 = np.random.randn(2)"
   ]
  },
  {
   "cell_type": "markdown",
   "metadata": {},
   "source": [
    "### Check the Jacobian "
   ]
  },
  {
   "cell_type": "code",
   "execution_count": 5,
   "metadata": {
    "collapsed": false
   },
   "outputs": [
    {
     "name": "stdout",
     "output_type": "stream",
     "text": [
      "All numerical derivatives differ from\n",
      "the user-provided ones by less than 8 decimal digits.\n",
      "\n",
      "The maximum error is 7.34e-09, for row 0 and column 0.\n",
      "\n"
     ]
    }
   ],
   "source": [
    "F.check_jacobian()"
   ]
  },
  {
   "cell_type": "markdown",
   "metadata": {},
   "source": [
    "###  Using minmax formulation"
   ]
  },
  {
   "cell_type": "code",
   "execution_count": 6,
   "metadata": {
    "collapsed": true
   },
   "outputs": [],
   "source": [
    "t0 = tic()\n",
    "x1 = F.zero(transform='minmax')\n",
    "t1 = 100 * toc(t0)\n",
    "n1 = F.fnorm"
   ]
  },
  {
   "cell_type": "markdown",
   "metadata": {},
   "source": [
    "### Using semismooth formulation"
   ]
  },
  {
   "cell_type": "code",
   "execution_count": 7,
   "metadata": {
    "collapsed": true
   },
   "outputs": [],
   "source": [
    "t0 = tic()\n",
    "x2 = F.zero(transform='ssmooth')\n",
    "t2 = 100*toc(t0)\n",
    "n2 = F.fnorm"
   ]
  },
  {
   "cell_type": "markdown",
   "metadata": {},
   "source": [
    "###  Print results"
   ]
  },
  {
   "cell_type": "code",
   "execution_count": 8,
   "metadata": {
    "collapsed": false
   },
   "outputs": [
    {
     "name": "stdout",
     "output_type": "stream",
     "text": [
      "Hundreds of seconds required to solve nonlinear complementarity \n",
      "problem on R^2 using minmax and semismooth formulations, with \n",
      "randomly generated bounds \n",
      "\ta = [0.24, -0.37] \n",
      "\tb = [2.54, 2.46]\n",
      "\n",
      "Algorithm           Time      Norm        x1     x2\n",
      "--------------------------------------------------------\n",
      "Newton minmax         1.197     1e-13      1.00   1.00\n",
      "Newton semismooth     3.991     3e-12      1.00   1.00\n"
     ]
    }
   ],
   "source": [
    "hdr = 'Hundreds of seconds required to solve nonlinear complementarity \\n' +\\\n",
    "      'problem on R^2 using minmax and semismooth formulations, with \\n'  +\\\n",
    "      'randomly generated bounds \\n' +\\\n",
    "      '\\ta = [{:4.2f}, {:4.2f}] \\n' + \\\n",
    "      '\\tb = [{:4.2f}, {:4.2f}]'\n",
    "\n",
    "frm = '{:20} {:6.3f}  {:8.0e}     {:5.2f}  {:5.2f}'\n",
    "prt = lambda method, t, n, x: print(frm.format(method, t, n, *x))\n",
    "\n",
    "print(hdr.format(a[0], a[1], b[0], b[1]))\n",
    "print('\\nAlgorithm           Time      Norm        x1     x2\\n{}'.format('-' * 56));\n",
    "prt('Newton minmax',     t1, n1, x1)\n",
    "prt('Newton semismooth', t2, n2, x2)"
   ]
  }
 ],
 "metadata": {
  "kernelspec": {
   "display_name": "Python 3",
   "language": "python",
   "name": "python3"
  },
  "language_info": {
   "codemirror_mode": {
    "name": "ipython",
    "version": 3
   },
   "file_extension": ".py",
   "mimetype": "text/x-python",
   "name": "python",
   "nbconvert_exporter": "python",
   "pygments_lexer": "ipython3",
   "version": "3.6.0"
  }
 },
 "nbformat": 4,
 "nbformat_minor": 0
}