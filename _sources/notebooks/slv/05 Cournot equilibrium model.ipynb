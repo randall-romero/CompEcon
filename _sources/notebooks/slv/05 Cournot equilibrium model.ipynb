{
 "cells": [
  {
   "cell_type": "markdown",
   "metadata": {},
   "source": [
    "# Cournot Equilibrium Model\n",
    "\n",
    "**Randall Romero Aguilar, PhD**\n",
    "\n",
    "This demo is based on the original Matlab demo accompanying the  <a href=\"https://mitpress.mit.edu/books/applied-computational-economics-and-finance\">Computational Economics and Finance</a> 2001 textbook by Mario Miranda and Paul Fackler.\n",
    "\n",
    "Original (Matlab) CompEcon file: **demslv05.m**\n",
    "\n",
    "Running this file requires the Python version of CompEcon. This can be installed with pip by running\n",
    "\n",
    "    !pip install compecon --upgrade\n",
    "\n",
    "<i>Last updated: 2021-Oct-01</i>\n",
    "<hr>\n"
   ]
  },
  {
   "cell_type": "code",
   "execution_count": 1,
   "metadata": {},
   "outputs": [],
   "source": [
    "import numpy as np\n",
    "import matplotlib.pyplot as plt\n",
    "\n",
    "from compecon import NLP, gridmake\n"
   ]
  },
  {
   "cell_type": "markdown",
   "metadata": {},
   "source": [
    "### Parameters and initial value"
   ]
  },
  {
   "cell_type": "code",
   "execution_count": 2,
   "metadata": {
    "collapsed": true
   },
   "outputs": [],
   "source": [
    "alpha = 0.625\n",
    "beta = np.array([0.6, 0.8])"
   ]
  },
  {
   "cell_type": "markdown",
   "metadata": {},
   "source": [
    "### Set up the Cournot function"
   ]
  },
  {
   "cell_type": "code",
   "execution_count": 3,
   "metadata": {
    "collapsed": true
   },
   "outputs": [],
   "source": [
    "def market(q):\n",
    "    quantity = q.sum()\n",
    "    price = quantity ** (-alpha)\n",
    "    return price, quantity"
   ]
  },
  {
   "cell_type": "code",
   "execution_count": 4,
   "metadata": {
    "collapsed": true
   },
   "outputs": [],
   "source": [
    "def cournot(q):\n",
    "    P, Q = market(q)\n",
    "    P1 = -alpha * P/Q\n",
    "    P2 = (-alpha - 1) * P1 / Q\n",
    "    fval = P + (P1 - beta) * q\n",
    "    fjac = np.diag(2 * P1 + P2 * q - beta) + np.fliplr(np.diag(P1 + P2 * q))\n",
    "    return fval, fjac"
   ]
  },
  {
   "cell_type": "markdown",
   "metadata": {},
   "source": [
    "### Compute equilibrium using Newton method (explicitly)"
   ]
  },
  {
   "cell_type": "code",
   "execution_count": 5,
   "metadata": {},
   "outputs": [
    {
     "name": "stdout",
     "output_type": "stream",
     "text": [
      "Company 1 produces 0.8396 units, while company 2 produces 0.6888 units.\n",
      "Total production is 1.5284 and price is 0.7671\n"
     ]
    }
   ],
   "source": [
    "q = np.array([0.2, 0.2])\n",
    "\n",
    "for it in range(40):\n",
    "    f, J = cournot(q)\n",
    "    step = -np.linalg.solve(J, f)\n",
    "    q += step\n",
    "    if np.linalg.norm(step) < 1.e-10: break\n",
    "\n",
    "price, quantity = market(q)\n",
    "print(f'Company 1 produces {q[0]:.4f} units, while company 2 produces {q[1]:.4f} units.')\n",
    "print(f'Total production is {quantity:.4f} and price is {price:.4f}')"
   ]
  },
  {
   "cell_type": "markdown",
   "metadata": {},
   "source": [
    "### Using a NLP object"
   ]
  },
  {
   "cell_type": "code",
   "execution_count": 6,
   "metadata": {},
   "outputs": [
    {
     "name": "stdout",
     "output_type": "stream",
     "text": [
      "Solving nonlinear equations by Newton's method\n",
      "it    bstep  change\n",
      "--------------------\n",
      "   0     0  4.64e-01\n",
      "   1     0  9.53e-02\n",
      "   2     0  3.47e-03\n",
      "   3     0  4.20e-06\n",
      "   4     0  5.77e-12\n",
      "\n",
      "Company 1 produces 0.8396 units, while company 2 produces 0.6888 units.\n",
      "Total production is 1.5284 and price is 0.7671\n"
     ]
    }
   ],
   "source": [
    "q0 = np.array([0.2, 0.2])\n",
    "cournot_problem = NLP(cournot)\n",
    "q = cournot_problem.newton(q0, show=True)\n",
    "\n",
    "price, quantity = market(q)\n",
    "print(f'\\nCompany 1 produces {q[0]:.4f} units, while company 2 produces {q[1]:.4f} units.')\n",
    "print(f'Total production is {quantity:.4f} and price is {price:.4f}')"
   ]
  },
  {
   "cell_type": "markdown",
   "metadata": {},
   "source": [
    "### Generate data for contour plot"
   ]
  },
  {
   "cell_type": "code",
   "execution_count": 7,
   "metadata": {
    "collapsed": true
   },
   "outputs": [],
   "source": [
    "n = 100\n",
    "q1 = np.linspace(0.1, 1.5, n)\n",
    "q2 = np.linspace(0.1, 1.5, n)\n",
    "z = np.array([cournot(q)[0] for q in gridmake(q1, q2).T]).T"
   ]
  },
  {
   "cell_type": "markdown",
   "metadata": {},
   "source": [
    "### Plot figures"
   ]
  },
  {
   "cell_type": "code",
   "execution_count": 8,
   "metadata": {
    "pycharm": {
     "name": "#%%\n"
    }
   },
   "outputs": [
    {
     "name": "stdout",
     "output_type": "stream",
     "text": [
      "Solving nonlinear equations by Newton's method\n",
      "it    bstep  change\n",
      "--------------------\n",
      "   0     0  1.10e+00\n",
      "   1     0  4.64e-01\n",
      "   2     0  9.53e-02\n",
      "   3     0  3.47e-03\n",
      "   4     0  4.20e-06\n",
      "Solving nonlinear equations by Broyden's method\n",
      "it    bstep  change\n",
      "--------------------\n",
      "   0     0  4.64e-01\n",
      "   1     0  2.17e-01\n",
      "   2     0  5.45e-02\n",
      "   3     0  1.53e-02\n",
      "   4     0  1.04e-02\n",
      "   5     0  4.55e-03\n",
      "   6     0  1.33e-04\n",
      "   7     0  2.94e-07\n",
      "   8     0  1.34e-09\n"
     ]
    },
    {
     "data": {
      "text/plain": "<Figure size 864x432 with 2 Axes>",
      "image/png": "[encoded data removed]"
     },
     "metadata": {},
     "output_type": "display_data"
    }
   ],
   "source": [
    "steps_options = {'marker': 'o',\n",
    "                 'color': (0.2, 0.2, .81),\n",
    "                 'linewidth': 1.0,\n",
    "                 'markersize': 9,\n",
    "                 'markerfacecolor': 'white',\n",
    "                 'markeredgecolor': 'red'}\n",
    "\n",
    "contour_options = {'levels': [0.0],\n",
    "                   'colors': '0.25',\n",
    "                   'linewidths': 0.5}\n",
    "\n",
    "\n",
    "Q1, Q2 = np.meshgrid(q1, q2)\n",
    "Z0 = np.reshape(z[0], (n,n), order='F')\n",
    "Z1 = np.reshape(z[1], (n,n), order='F')\n",
    "\n",
    "methods = ['newton', 'broyden']\n",
    "cournot_problem.opts['maxit', 'maxsteps', 'all_x'] = 10, 0, True\n",
    "\n",
    "qmin, qmax = 0.1, 1.3\n",
    "\n",
    "fig, axs = plt.subplots(1,2,figsize=[12,6])\n",
    "for ax, method in zip(axs, methods):\n",
    "    x = cournot_problem.zero(method=method)\n",
    "    ax.set(title=method.capitalize() + \"'s method\",\n",
    "           xlabel='$q_1$',\n",
    "           ylabel='$q_2$',\n",
    "           xlim=[qmin, qmax],\n",
    "           ylim=[qmin, qmax])\n",
    "    ax.contour(Q1, Q2, Z0, **contour_options)\n",
    "    ax.contour(Q1, Q2, Z1, **contour_options)\n",
    "    ax.plot(*cournot_problem.x_sequence, **steps_options)\n",
    "\n",
    "    ax.annotate('$\\pi_1 = 0$', (0.85, qmax), ha='left', va='top')\n",
    "    ax.annotate('$\\pi_2 = 0$', (qmax, 0.55),  ha='right', va='center')"
   ]
  }
 ],
 "metadata": {
  "kernelspec": {
   "display_name": "Python 3",
   "language": "python",
   "name": "python3"
  },
  "language_info": {
   "codemirror_mode": {
    "name": "ipython",
    "version": 3
   },
   "file_extension": ".py",
   "mimetype": "text/x-python",
   "name": "python",
   "nbconvert_exporter": "python",
   "pygments_lexer": "ipython3",
   "version": "3.6.4"
  }
 },
 "nbformat": 4,
 "nbformat_minor": 1
}