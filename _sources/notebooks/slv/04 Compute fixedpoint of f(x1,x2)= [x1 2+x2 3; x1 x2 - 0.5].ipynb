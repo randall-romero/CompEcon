{
 "cells": [
  {
   "cell_type": "markdown",
   "metadata": {},
   "source": [
    "# Compute fixedpoint of $f(x, y)= [x^2 + y^3; xy - 0.5]$\n",
    "\n",
    "**Randall Romero Aguilar, PhD**\n",
    "\n",
    "This demo is based on the original Matlab demo accompanying the  <a href=\"https://mitpress.mit.edu/books/applied-computational-economics-and-finance\">Computational Economics and Finance</a> 2001 textbook by Mario Miranda and Paul Fackler.\n",
    "\n",
    "Original (Matlab) CompEcon file: **demslv04.m**\n",
    "\n",
    "Running this file requires the Python version of CompEcon. This can be installed with pip by running\n",
    "\n",
    "    !pip install compecon --upgrade\n",
    "\n",
    "<i>Last updated: 2021-Oct-01</i>\n",
    "<hr>\n"
   ]
  },
  {
   "cell_type": "markdown",
   "metadata": {},
   "source": [
    "## About\n",
    "\n",
    "Compute fixedpoint of \n",
    "\n",
    "\\begin{equation}\n",
    "f(x, y)= \\begin{bmatrix}x^2 + y^3 \\\\ xy - 0.5 \\end{bmatrix}\n",
    "\\end{equation}\n",
    "\n",
    "using Newton, Broyden, and function iteration methods.\n",
    "\n",
    "Initial values generated randomly.  Some algorithms may fail to converge, depending on the initial value.\n",
    "\n",
    "True fixedpoint is $x = -0.09$,  $y=-0.46$."
   ]
  },
  {
   "cell_type": "code",
   "execution_count": 1,
   "metadata": {
    "collapsed": true
   },
   "outputs": [],
   "source": [
    "import numpy as np\n",
    "import pandas as pd\n",
    "from compecon import NLP, tic, toc\n",
    "np.random.seed(12)"
   ]
  },
  {
   "cell_type": "markdown",
   "metadata": {},
   "source": [
    "### Set up the problem"
   ]
  },
  {
   "cell_type": "code",
   "execution_count": 2,
   "metadata": {
    "collapsed": true
   },
   "outputs": [],
   "source": [
    "def g(z):\n",
    "    x, y = z\n",
    "    return np.array([x **2 + y ** 3, x * y - 0.5])\n",
    "\n",
    "problem_as_fixpoint = NLP(g, maxit=1500)"
   ]
  },
  {
   "cell_type": "markdown",
   "metadata": {},
   "source": [
    "### Equivalent Rootfinding Formulation"
   ]
  },
  {
   "cell_type": "code",
   "execution_count": 3,
   "metadata": {
    "collapsed": true
   },
   "outputs": [],
   "source": [
    "def f(z):\n",
    "    x, y = z\n",
    "    fval = [x - x ** 2 - y ** 3,\n",
    "            y - x * y + 0.5]\n",
    "    fjac = [[1 - 2 * x, -3 * y **2],\n",
    "            [-y, 1 - x]]\n",
    "\n",
    "    return np.array(fval), np.array(fjac)\n",
    "\n",
    "problem_as_zero = NLP(f, maxit=1500)"
   ]
  },
  {
   "cell_type": "markdown",
   "metadata": {},
   "source": [
    "### Randomly generate starting point"
   ]
  },
  {
   "cell_type": "code",
   "execution_count": 4,
   "metadata": {
    "collapsed": true
   },
   "outputs": [],
   "source": [
    "xinit = np.random.randn(2)"
   ]
  },
  {
   "cell_type": "markdown",
   "metadata": {},
   "source": [
    "### Compute fixed-point using Newton method"
   ]
  },
  {
   "cell_type": "code",
   "execution_count": 5,
   "metadata": {
    "collapsed": true
   },
   "outputs": [],
   "source": [
    "t0 = tic()\n",
    "z1 = problem_as_zero.newton(xinit)\n",
    "t1 = 100 * toc(t0)\n",
    "n1 = problem_as_zero.fnorm"
   ]
  },
  {
   "cell_type": "markdown",
   "metadata": {},
   "source": [
    "### Compute fixed-point using Broyden method"
   ]
  },
  {
   "cell_type": "code",
   "execution_count": 6,
   "metadata": {
    "collapsed": true
   },
   "outputs": [],
   "source": [
    "t0 = tic()\n",
    "z2 = problem_as_zero.broyden(xinit)\n",
    "t2 = 100 * toc(t0)\n",
    "n2 = problem_as_zero.fnorm"
   ]
  },
  {
   "cell_type": "markdown",
   "metadata": {},
   "source": [
    "### Compute fixed-point using function iteration"
   ]
  },
  {
   "cell_type": "code",
   "execution_count": 7,
   "metadata": {
    "collapsed": true
   },
   "outputs": [],
   "source": [
    "t0 = tic()\n",
    "z3 = problem_as_fixpoint.fixpoint(xinit)\n",
    "t3 = 100 * toc(t0)\n",
    "n3 = np.linalg.norm(problem_as_fixpoint.fx - z3)"
   ]
  },
  {
   "cell_type": "markdown",
   "metadata": {},
   "source": []
  },
  {
   "cell_type": "code",
   "execution_count": 8,
   "metadata": {
    "collapsed": false,
    "pycharm": {
     "name": "#%%\n"
    }
   },
   "outputs": [
    {
     "name": "stdout",
     "output_type": "stream",
     "text": [
      "Hundredths of seconds required to compute fixed-point of \n",
      "\n",
      "\t\tg(x1,x2)=[x1^2+x2^3; x1*x2-0.5]\n",
      "\n",
      "using Newton, Broyden, and function iteration methods, starting at\n",
      "\n",
      "\t\tx1 = 0.47  x2 = -0.68\\n\\n\n"
     ]
    },
    {
     "data": {
      "text/plain": "              Time     Norm of f        x1        x2\nNewton    0.102687  1.665335e-15 -0.088909 -0.459175\nBroyden   0.598288  8.015544e-10 -0.088909 -0.459175\nFunction  0.099659  8.421821e-09 -0.088909 -0.459175",
      "text/html": "<div>\n<style scoped>\n    .dataframe tbody tr th:only-of-type {\n        vertical-align: middle;\n    }\n\n    .dataframe tbody tr th {\n        vertical-align: top;\n    }\n\n    .dataframe thead th {\n        text-align: right;\n    }\n</style>\n<table border=\"1\" class=\"dataframe\">\n  <thead>\n    <tr style=\"text-align: right;\">\n      <th></th>\n      <th>Time</th>\n      <th>Norm of f</th>\n      <th>x1</th>\n      <th>x2</th>\n    </tr>\n  </thead>\n  <tbody>\n    <tr>\n      <th>Newton</th>\n      <td>0.102687</td>\n      <td>1.665335e-15</td>\n      <td>-0.088909</td>\n      <td>-0.459175</td>\n    </tr>\n    <tr>\n      <th>Broyden</th>\n      <td>0.598288</td>\n      <td>8.015544e-10</td>\n      <td>-0.088909</td>\n      <td>-0.459175</td>\n    </tr>\n    <tr>\n      <th>Function</th>\n      <td>0.099659</td>\n      <td>8.421821e-09</td>\n      <td>-0.088909</td>\n      <td>-0.459175</td>\n    </tr>\n  </tbody>\n</table>\n</div>"
     },
     "execution_count": 8,
     "metadata": {},
     "output_type": "execute_result"
    }
   ],
   "source": [
    "print('Hundredths of seconds required to compute fixed-point of ')\n",
    "print('\\n\\t\\tg(x1,x2)=[x1^2+x2^3; x1*x2-0.5]')\n",
    "print('\\nusing Newton, Broyden, and function iteration methods, starting at')\n",
    "print('\\n\\t\\tx1 = {:4.2f}  x2 = {:4.2f}\\\\n\\\\n'.format(*xinit))\n",
    "\n",
    "pd.DataFrame({\n",
    "    'Time': [t1, t2, t3],\n",
    "    'Norm of f': [n1, n2, n3],\n",
    "    'x1': [z1[0], z2[0], z3[0]],\n",
    "    'x2': [z1[1], z2[1], z3[1]]},\n",
    "    index=['Newton', 'Broyden', 'Function']\n",
    ")"
   ]
  }
 ],
 "metadata": {
  "kernelspec": {
   "display_name": "Python 3",
   "language": "python",
   "name": "python3"
  },
  "language_info": {
   "codemirror_mode": {
    "name": "ipython",
    "version": 3
   },
   "file_extension": ".py",
   "mimetype": "text/x-python",
   "name": "python",
   "nbconvert_exporter": "python",
   "pygments_lexer": "ipython3",
   "version": "3.5.0"
  }
 },
 "nbformat": 4,
 "nbformat_minor": 0
}