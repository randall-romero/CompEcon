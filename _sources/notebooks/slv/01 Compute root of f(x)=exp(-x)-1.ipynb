{
 "cells": [
  {
   "cell_type": "markdown",
   "metadata": {},
   "source": [
    "# Compute root of $f(x)=\\exp(-x)-1$\n",
    "\n",
    "**Randall Romero Aguilar, PhD**\n",
    "\n",
    "This demo is based on the original Matlab demo accompanying the  <a href=\"https://mitpress.mit.edu/books/applied-computational-economics-and-finance\">Computational Economics and Finance</a> 2001 textbook by Mario Miranda and Paul Fackler.\n",
    "\n",
    "Original (Matlab) CompEcon file: **demslv01.m**\n",
    "\n",
    "Running this file requires the Python version of CompEcon. This can be installed with pip by running\n",
    "\n",
    "    !pip install compecon --upgrade\n",
    "\n",
    "<i>Last updated: 2021-Oct-01</i>\n",
    "<hr>\n",
    "\n"
   ]
  },
  {
   "cell_type": "markdown",
   "metadata": {},
   "source": [
    "## About\n",
    "\n",
    "Compute root of $f(x)=\\exp(-x)-1$ using Newton and secant methods. Initial value generated randomly. True root is $x=0$."
   ]
  },
  {
   "cell_type": "code",
   "execution_count": 1,
   "metadata": {},
   "outputs": [],
   "source": [
    "import numpy as np\n",
    "import pandas as pd\n",
    "import matplotlib.pyplot as plt\n",
    "from compecon import NLP, tic, toc\n"
   ]
  },
  {
   "cell_type": "markdown",
   "metadata": {},
   "source": [
    "### Set up the problem"
   ]
  },
  {
   "cell_type": "code",
   "execution_count": 2,
   "metadata": {
    "collapsed": true
   },
   "outputs": [],
   "source": [
    "def f(x):\n",
    "    fval = np.exp(-x) - 1\n",
    "    fjac = -np.exp(-x)\n",
    "    return fval, fjac\n",
    "\n",
    "problem = NLP(f, all_x=True)"
   ]
  },
  {
   "cell_type": "markdown",
   "metadata": {},
   "source": [
    "### Randomly generate starting point"
   ]
  },
  {
   "cell_type": "code",
   "execution_count": 3,
   "metadata": {
    "collapsed": true
   },
   "outputs": [],
   "source": [
    "problem.x0 = 10 * np.random.randn(1)"
   ]
  },
  {
   "cell_type": "markdown",
   "metadata": {},
   "source": [
    "### Compute root using Newton method"
   ]
  },
  {
   "cell_type": "code",
   "execution_count": 4,
   "metadata": {
    "collapsed": true
   },
   "outputs": [],
   "source": [
    "t0 = tic()\n",
    "x1 = problem.newton()\n",
    "t1 = 100 * toc(t0)\n",
    "n1, x_newton = problem.fnorm, problem.x_sequence"
   ]
  },
  {
   "cell_type": "markdown",
   "metadata": {},
   "source": [
    "### Compute root using Broyden method"
   ]
  },
  {
   "cell_type": "code",
   "execution_count": 5,
   "metadata": {},
   "outputs": [],
   "source": [
    "t0 = tic()\n",
    "x2 = problem.broyden()\n",
    "t2 = 100 * toc(t0)\n",
    "n2, x_broyden = problem.fnorm, problem.x_sequence"
   ]
  },
  {
   "cell_type": "markdown",
   "metadata": {},
   "source": [
    "### Print results"
   ]
  },
  {
   "cell_type": "code",
   "execution_count": 6,
   "metadata": {},
   "outputs": [
    {
     "name": "stdout",
     "output_type": "stream",
     "text": [
      "Hundredths of seconds required to compute root of exp(-x)-1,\n",
      "via Newton and Broyden methods, starting at x = -15.83.\n"
     ]
    },
    {
     "data": {
      "text/plain": "             Time     Norm of f                    Final x\nNewton   0.199604  6.812106e-12   [-6.812180907325824e-12]\nBroyden  0.598407  2.257042e-09  [-2.2570421295229696e-09]",
      "text/html": "<div>\n<style scoped>\n    .dataframe tbody tr th:only-of-type {\n        vertical-align: middle;\n    }\n\n    .dataframe tbody tr th {\n        vertical-align: top;\n    }\n\n    .dataframe thead th {\n        text-align: right;\n    }\n</style>\n<table border=\"1\" class=\"dataframe\">\n  <thead>\n    <tr style=\"text-align: right;\">\n      <th></th>\n      <th>Time</th>\n      <th>Norm of f</th>\n      <th>Final x</th>\n    </tr>\n  </thead>\n  <tbody>\n    <tr>\n      <th>Newton</th>\n      <td>0.199604</td>\n      <td>6.812106e-12</td>\n      <td>[-6.812180907325824e-12]</td>\n    </tr>\n    <tr>\n      <th>Broyden</th>\n      <td>0.598407</td>\n      <td>2.257042e-09</td>\n      <td>[-2.2570421295229696e-09]</td>\n    </tr>\n  </tbody>\n</table>\n</div>"
     },
     "execution_count": 6,
     "metadata": {},
     "output_type": "execute_result"
    }
   ],
   "source": [
    "print('Hundredths of seconds required to compute root of exp(-x)-1,')\n",
    "print('via Newton and Broyden methods, starting at x = %4.2f.' % problem.x0)\n",
    "\n",
    "pd.DataFrame({\n",
    "    'Time': [t1, t2],\n",
    "    'Norm of f': [n1, n2],\n",
    "    'Final x': [x1, x2]},\n",
    "    index=['Newton', 'Broyden']\n",
    ")"
   ]
  },
  {
   "cell_type": "markdown",
   "metadata": {},
   "source": [
    "### View current options for solver"
   ]
  },
  {
   "cell_type": "code",
   "execution_count": 7,
   "metadata": {},
   "outputs": [
    {
     "name": "stdout",
     "output_type": "stream",
     "text": [
      "Options for solving a NLP:\n",
      "\n",
      "\t    all_x = True\n",
      "\t    initb = None\n",
      "\t    initi = False\n",
      "\t    maxit = 100\n",
      "\t maxsteps = 10\n",
      "\t   method = broyden\n",
      "\t     show = False\n",
      "\t      tol = 1.4901161193847656e-08\n",
      "\ttransform = ssmooth\n",
      "\n"
     ]
    }
   ],
   "source": [
    "print(problem.opts)"
   ]
  },
  {
   "cell_type": "markdown",
   "metadata": {},
   "source": [
    "# Describe the options"
   ]
  },
  {
   "cell_type": "code",
   "execution_count": 8,
   "metadata": {},
   "outputs": [
    {
     "name": "stdout",
     "output_type": "stream",
     "text": [
      " A container for options to find a zero for a NLP or MCP\n",
      "\n",
      "    Attributes: default in brackets\n",
      "        method:     either ['newton'] or 'broyden'\n",
      "        maxit:      maximum number of iterations [100]\n",
      "        maxsteps:   maximum number of backsteps [10]\n",
      "        tol:        convergence tolerance [sqrt(machine eps)]\n",
      "        initb:      an initial inverse Jacobian aprroximation matrix [None]\n",
      "        initi:      if True, use the identity matrix to initialize Jacobian,\n",
      "                    if [False], a numerical Jacobian will be used\n",
      "        transform:  either ['ssmooth'] or 'minmax', required for MC problems\n",
      "        show:       print to screen if [True], quiet if False\n",
      "        all_x:      whether to output the full solution sequence too [False]\n",
      "    \n"
     ]
    }
   ],
   "source": [
    "print(problem.opts.__doc__)"
   ]
  },
  {
   "cell_type": "markdown",
   "metadata": {},
   "source": [
    "### Plot the convergence"
   ]
  },
  {
   "cell_type": "code",
   "execution_count": 9,
   "metadata": {},
   "outputs": [
    {
     "data": {
      "text/plain": "<Figure size 864x432 with 1 Axes>",
      "image/png": "[encoded data removed]"
     },
     "metadata": {},
     "output_type": "display_data"
    }
   ],
   "source": [
    "b = -abs(problem.x0)\n",
    "a = -b\n",
    "xx = np.linspace(a, b, 100)\n",
    "\n",
    "fig, ax = plt.subplots()\n",
    "ax.hlines(0, a, b, 'gray')\n",
    "ax.plot(xx, f(xx)[0], 'b-', alpha=0.4)\n",
    "ax.plot(x_newton.T,f(x_newton)[0].T,'ro:', alpha=0.4);"
   ]
  }
 ],
 "metadata": {
  "kernelspec": {
   "display_name": "Python 3",
   "language": "python",
   "name": "python3"
  },
  "language_info": {
   "codemirror_mode": {
    "name": "ipython",
    "version": 3
   },
   "file_extension": ".py",
   "mimetype": "text/x-python",
   "name": "python",
   "nbconvert_exporter": "python",
   "pygments_lexer": "ipython3",
   "version": "3.6.1"
  }
 },
 "nbformat": 4,
 "nbformat_minor": 1
}