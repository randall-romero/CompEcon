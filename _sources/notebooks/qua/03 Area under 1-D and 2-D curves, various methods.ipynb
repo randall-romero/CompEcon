{
 "cells": [
  {
   "cell_type": "markdown",
   "metadata": {},
   "source": [
    "# Area under 1-D and 2-D curves, various methods\n",
    "\n",
    "**Randall Romero Aguilar, PhD**\n",
    "\n",
    "This demo is based on the original Matlab demo accompanying the  <a href=\"https://mitpress.mit.edu/books/applied-computational-economics-and-finance\">Computational Economics and Finance</a> 2001 textbook by Mario Miranda and Paul Fackler.\n",
    "\n",
    "Original (Matlab) CompEcon file: **demqua03.m**\n",
    "\n",
    "Running this file requires the Python version of CompEcon. This can be installed with pip by running\n",
    "\n",
    "    !pip install compecon --upgrade\n",
    "\n",
    "<i>Last updated: 2022-Oct-23</i>\n",
    "<hr>"
   ]
  },
  {
   "cell_type": "markdown",
   "metadata": {},
   "source": [
    "## About\n",
    "\n",
    "Uni- and bi-vaiariate integration using Newton-Cotes, Gaussian, Monte Carlo, and quasi-Monte Carlo quadrature methods."
   ]
  },
  {
   "cell_type": "markdown",
   "metadata": {},
   "source": [
    "## Initial tasks"
   ]
  },
  {
   "cell_type": "code",
   "execution_count": 1,
   "metadata": {},
   "outputs": [],
   "source": [
    "import numpy as np\n",
    "from compecon import qnwtrap, qnwsimp, qnwlege\n",
    "import matplotlib.pyplot as plt\n",
    "import pandas as pd"
   ]
  },
  {
   "cell_type": "code",
   "execution_count": 2,
   "metadata": {},
   "outputs": [],
   "source": [
    "quadmethods = [qnwtrap, qnwsimp, qnwlege]"
   ]
  },
  {
   "cell_type": "markdown",
   "metadata": {},
   "source": [
    "### Make support function"
   ]
  },
  {
   "cell_type": "code",
   "execution_count": 3,
   "metadata": {},
   "outputs": [],
   "source": [
    "a, b = -1, 1\n",
    "nlist = [5, 11, 21, 31]\n",
    "N = len(nlist)\n",
    "\n",
    "def quad(func, qnw, n):\n",
    "    xi, wi = qnw(n,a,b)\n",
    "    return np.dot(func(xi),wi)"
   ]
  },
  {
   "cell_type": "markdown",
   "metadata": {},
   "source": [
    "## Evaluating\n",
    "$\\int_{-1}^1e^{-x}dx$"
   ]
  },
  {
   "cell_type": "code",
   "execution_count": 4,
   "metadata": {},
   "outputs": [],
   "source": [
    "def f(x):\n",
    "    return np.exp(-x)\n",
    "\n",
    "f_quad = np.array([[quad(f, qnw, ni) for qnw in quadmethods] for ni in nlist])\n",
    "f_true = np.exp(1) - 1/np.exp(1)\n",
    "f_error = np.log10(np.abs(f_quad/f_true - 1))\n"
   ]
  },
  {
   "cell_type": "markdown",
   "metadata": {},
   "source": [
    "## Evaluating\n",
    "$\\int_{-1}^1\\sqrt{|x|}dx$"
   ]
  },
  {
   "cell_type": "code",
   "execution_count": 5,
   "metadata": {},
   "outputs": [],
   "source": [
    "def g(x):\n",
    "    return np.sqrt(np.abs(x))\n",
    "\n",
    "g_quad = np.array([[quad(g, qnw, ni) for qnw in quadmethods] for ni in nlist])\n",
    "g_true = 4/3\n",
    "g_error = np.log10(np.abs(g_quad/g_true - 1))"
   ]
  },
  {
   "cell_type": "markdown",
   "metadata": {},
   "source": [
    "## Make table with results"
   ]
  },
  {
   "cell_type": "code",
   "execution_count": 6,
   "metadata": {},
   "outputs": [
    {
     "data": {
      "text/html": [
       "<div>\n",
       "<style scoped>\n",
       "    .dataframe tbody tr th:only-of-type {\n",
       "        vertical-align: middle;\n",
       "    }\n",
       "\n",
       "    .dataframe tbody tr th {\n",
       "        vertical-align: top;\n",
       "    }\n",
       "\n",
       "    .dataframe thead th {\n",
       "        text-align: right;\n",
       "    }\n",
       "</style>\n",
       "<table border=\"1\" class=\"dataframe\">\n",
       "  <thead>\n",
       "    <tr style=\"text-align: right;\">\n",
       "      <th></th>\n",
       "      <th></th>\n",
       "      <th>Trapezoid rule</th>\n",
       "      <th>Simpson's rule</th>\n",
       "      <th>Gauss-Legendre</th>\n",
       "    </tr>\n",
       "  </thead>\n",
       "  <tbody>\n",
       "    <tr>\n",
       "      <th rowspan=\"4\" valign=\"top\">$\\int_{-1}^1e^{-x}dx$</th>\n",
       "      <th>5</th>\n",
       "      <td>-1.683044</td>\n",
       "      <td>-3.472173</td>\n",
       "      <td>-9.454795</td>\n",
       "    </tr>\n",
       "    <tr>\n",
       "      <th>11</th>\n",
       "      <td>-2.477411</td>\n",
       "      <td>-5.053217</td>\n",
       "      <td>-14.273349</td>\n",
       "    </tr>\n",
       "    <tr>\n",
       "      <th>21</th>\n",
       "      <td>-3.079254</td>\n",
       "      <td>-6.255789</td>\n",
       "      <td>-14.675836</td>\n",
       "    </tr>\n",
       "    <tr>\n",
       "      <th>31</th>\n",
       "      <td>-3.431396</td>\n",
       "      <td>-6.959867</td>\n",
       "      <td>-15.653560</td>\n",
       "    </tr>\n",
       "    <tr>\n",
       "      <th rowspan=\"4\" valign=\"top\">$\\int_{-1}^1\\sqrt{|x|}dx$</th>\n",
       "      <th>5</th>\n",
       "      <td>-1.023788</td>\n",
       "      <td>-1.367611</td>\n",
       "      <td>-0.870112</td>\n",
       "    </tr>\n",
       "    <tr>\n",
       "      <th>11</th>\n",
       "      <td>-1.595301</td>\n",
       "      <td>-1.347900</td>\n",
       "      <td>-1.351241</td>\n",
       "    </tr>\n",
       "    <tr>\n",
       "      <th>21</th>\n",
       "      <td>-2.034517</td>\n",
       "      <td>-2.414470</td>\n",
       "      <td>-1.758970</td>\n",
       "    </tr>\n",
       "    <tr>\n",
       "      <th>31</th>\n",
       "      <td>-2.293296</td>\n",
       "      <td>-2.063539</td>\n",
       "      <td>-2.007803</td>\n",
       "    </tr>\n",
       "  </tbody>\n",
       "</table>\n",
       "</div>"
      ],
      "text/plain": [
       "                              Trapezoid rule  Simpson's rule  Gauss-Legendre\n",
       "$\\int_{-1}^1e^{-x}dx$     5        -1.683044       -3.472173       -9.454795\n",
       "                          11       -2.477411       -5.053217      -14.273349\n",
       "                          21       -3.079254       -6.255789      -14.675836\n",
       "                          31       -3.431396       -6.959867      -15.653560\n",
       "$\\int_{-1}^1\\sqrt{|x|}dx$ 5        -1.023788       -1.367611       -0.870112\n",
       "                          11       -1.595301       -1.347900       -1.351241\n",
       "                          21       -2.034517       -2.414470       -1.758970\n",
       "                          31       -2.293296       -2.063539       -2.007803"
      ]
     },
     "execution_count": 6,
     "metadata": {},
     "output_type": "execute_result"
    }
   ],
   "source": [
    "methods = ['Trapezoid rule', \"Simpson's rule\", 'Gauss-Legendre']\n",
    "functions = [r'$\\int_{-1}^1e^{-x}dx$', r'$\\int_{-1}^1\\sqrt{|x|}dx$']\n",
    "\n",
    "results = pd.concat(\n",
    "    [pd.DataFrame(errors, columns=methods, index=nlist) for errors in (f_error, g_error)],\n",
    "    keys=functions)\n",
    "\n",
    "results"
   ]
  },
  {
   "cell_type": "markdown",
   "metadata": {},
   "source": [
    "## Plot the functions"
   ]
  },
  {
   "cell_type": "code",
   "execution_count": 7,
   "metadata": {},
   "outputs": [
    {
     "data": {
      "image/png": "[encoded data removed]",
      "text/plain": [
       "<Figure size 720x288 with 2 Axes>"
      ]
     },
     "metadata": {},
     "output_type": "display_data"
    }
   ],
   "source": [
    "a, b, n = -1, 1, 301\n",
    "x = np.linspace(a, b, n)\n",
    "\n",
    "options = dict(xlim=[a,b], xticks=[-1,0,1], yticks=[0])\n",
    "\n",
    "fig, axs = plt.subplots(1, 2, figsize=[10,4])\n",
    "axs[0].plot(x, f(x), linewidth=3)\n",
    "axs[0].set(title='$e^{-x}$', ylim=[0,f(a)], **options)\n",
    "\n",
    "axs[1].plot(x, g(x), linewidth=3)\n",
    "axs[1].set(title='$\\sqrt{|x|}$', ylim=[0,g(a)], **options);"
   ]
  }
 ],
 "metadata": {
  "kernelspec": {
   "display_name": "Python 3.9.7 ('base')",
   "language": "python",
   "name": "python3"
  },
  "language_info": {
   "codemirror_mode": {
    "name": "ipython",
    "version": 3
   },
   "file_extension": ".py",
   "mimetype": "text/x-python",
   "name": "python",
   "nbconvert_exporter": "python",
   "pygments_lexer": "ipython3",
   "version": "3.9.7"
  },
  "vscode": {
   "interpreter": {
    "hash": "ad2bdc8ecc057115af97d19610ffacc2b4e99fae6737bb82f5d7fb13d2f2c186"
   }
  }
 },
 "nbformat": 4,
 "nbformat_minor": 4
}
