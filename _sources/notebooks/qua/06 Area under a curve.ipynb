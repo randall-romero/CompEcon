{
 "cells": [
  {
   "cell_type": "markdown",
   "metadata": {},
   "source": [
    "# Area under a curve\n",
    "\n",
    "**Randall Romero Aguilar, PhD**\n",
    "\n",
    "This demo is based on the original Matlab demo accompanying the  <a href=\"https://mitpress.mit.edu/books/applied-computational-economics-and-finance\">Computational Economics and Finance</a> 2001 textbook by Mario Miranda and Paul Fackler.\n",
    "\n",
    "Original (Matlab) CompEcon file: **demqua01.m**\n",
    "\n",
    "Running this file requires the Python version of CompEcon. This can be installed with pip by running\n",
    "\n",
    "    !pip install compecon --upgrade\n",
    "\n",
    "<i>Last updated: 2021-Oct-01</i>\n",
    "<hr>"
   ]
  },
  {
   "cell_type": "markdown",
   "metadata": {},
   "source": [
    "## Initial tasks"
   ]
  },
  {
   "cell_type": "code",
   "execution_count": 1,
   "metadata": {},
   "outputs": [],
   "source": [
    "from numpy import cos, pi, linspace, array\n",
    "import matplotlib.pyplot as plt"
   ]
  },
  {
   "cell_type": "code",
   "execution_count": 2,
   "metadata": {},
   "outputs": [],
   "source": [
    "def f(x):\n",
    "    return 25 - cos(pi*x)*(2*pi*x - pi + 0.5)**2"
   ]
  },
  {
   "cell_type": "code",
   "execution_count": 3,
   "metadata": {},
   "outputs": [],
   "source": [
    "x_range = array([0, 1])\n",
    "a_b = array([0.25, 0.75])\n",
    "n = 401\n",
    "\n",
    "z = linspace(*a_b, n)\n",
    "x = linspace(*x_range, n)"
   ]
  },
  {
   "cell_type": "code",
   "execution_count": 4,
   "metadata": {},
   "outputs": [
    {
     "data": {
      "text/plain": "<Figure size 576x288 with 1 Axes>",
      "image/png": "[encoded data removed]"
     },
     "metadata": {
      "needs_background": "light"
     },
     "output_type": "display_data"
    }
   ],
   "source": [
    "fig, ax = plt.subplots(figsize=[8,4])\n",
    "ax.fill_between(z, 0, f(z), alpha=0.35, color='LightSkyBlue')\n",
    "ax.hlines(0, *x_range, 'k', linewidth=2)\n",
    "ax.vlines(a_b, 0, f(a_b), color='tab:orange',linestyle='--',linewidth=2)\n",
    "ax.plot(x,f(x), linewidth=3)\n",
    "ax.set(xlim=x_range, xticks=a_b,\n",
    "       ylim=[-5, f(x).max()+2], yticks=[0])\n",
    "       \n",
    "ax.set_yticklabels(['0'], size=20)\n",
    "ax.set_xticklabels(['$a$', '$b$'], size=20)\n",
    "\n",
    "ax.annotate(r'$f(x)$', [x_range[1] - 0.1, f(x_range[1])-5], fontsize=18, color='C0', va='top')\n",
    "ax.annotate(r'$A = \\int_a^bf(x)dx$', [a_b.mean(), 10] ,fontsize=18, ha='center');\n",
    "\n",
    "#demo.savefig([fig], name='demqua06')"
   ]
  }
 ],
 "metadata": {
  "kernelspec": {
   "display_name": "Python 3",
   "language": "python",
   "name": "python3"
  },
  "language_info": {
   "codemirror_mode": {
    "name": "ipython",
    "version": 3
   },
   "file_extension": ".py",
   "mimetype": "text/x-python",
   "name": "python",
   "nbconvert_exporter": "python",
   "pygments_lexer": "ipython3",
   "version": "3.8.3"
  }
 },
 "nbformat": 4,
 "nbformat_minor": 4
}