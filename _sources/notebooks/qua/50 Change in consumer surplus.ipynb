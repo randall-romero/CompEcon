{
 "cells": [
  {
   "cell_type": "markdown",
   "metadata": {},
   "source": [
    "# Change in Consumer Surplus\n",
    "\n",
    "**Randall Romero Aguilar, PhD**\n",
    "\n",
    "This demo is based on the original Matlab demo accompanying the  <a href=\"https://mitpress.mit.edu/books/applied-computational-economics-and-finance\">Computational Economics and Finance</a> 2001 textbook by Mario Miranda and Paul Fackler.\n",
    "\n",
    "Original (Matlab) CompEcon file: **demqua50.m**\n",
    "\n",
    "Running this file requires the Python version of CompEcon. This can be installed with pip by running\n",
    "\n",
    "    !pip install compecon --upgrade\n",
    "\n",
    "<i>Last updated: 2022-Oct-23</i>\n",
    "<hr>\n",
    "\n"
   ]
  },
  {
   "cell_type": "markdown",
   "metadata": {},
   "source": [
    "## Initial tasks"
   ]
  },
  {
   "cell_type": "code",
   "execution_count": 1,
   "metadata": {},
   "outputs": [],
   "source": [
    "from compecon import qnwlege\n",
    "import numpy as np\n",
    "import matplotlib.pyplot as plt"
   ]
  },
  {
   "cell_type": "markdown",
   "metadata": {},
   "source": [
    "## Define inverse demand curve"
   ]
  },
  {
   "cell_type": "code",
   "execution_count": 2,
   "metadata": {},
   "outputs": [
    {
     "data": {
      "text/plain": [
       "0.1547610245267632"
      ]
     },
     "execution_count": 2,
     "metadata": {},
     "output_type": "execute_result"
    }
   ],
   "source": [
    "f = lambda p: 0.15*p**(-1.25)\n",
    "p, w = qnwlege(11, 0.3, 0.7)\n",
    "change = w.dot(f(p))\n",
    "change"
   ]
  },
  {
   "cell_type": "markdown",
   "metadata": {},
   "source": [
    "## Make figure"
   ]
  },
  {
   "cell_type": "code",
   "execution_count": 3,
   "metadata": {},
   "outputs": [
    {
     "data": {
      "image/png": "[encoded data removed]",
      "text/plain": [
       "<Figure size 864x432 with 1 Axes>"
      ]
     },
     "metadata": {},
     "output_type": "display_data"
    }
   ],
   "source": [
    "# Initiate figure\n",
    "fig0, ax = plt.subplots()\n",
    "\n",
    "# Set plotting parameters\n",
    "n = 1001\n",
    "qmin, qmax = 0, 1\n",
    "pmin, pmax = 0, 1\n",
    "p1, p2 = 0.7, 0.3\n",
    "\n",
    "q1 = f(p1)\n",
    "q2 = f(p2)\n",
    "\n",
    "# Plot area under inverse demand curve\n",
    "p = np.linspace(0,pmax, n)\n",
    "q = f(p)\n",
    "\n",
    "par = np.linspace(p2,p1, n)\n",
    "ax.fill_betweenx(par, f(par), qmin, alpha=0.35, color='LightSkyBlue')\n",
    "\n",
    "# Plot inverse demand curve\n",
    "ax.plot(q,p)\n",
    "\n",
    "# Annotate figure\n",
    "\n",
    "ax.hlines([p1, p2], qmin, [q1, q2], linestyles=':', colors='gray')\n",
    "ax.vlines([q1, q2], pmin, [p1, p2], linestyles=':', colors='gray')\n",
    "\n",
    "ax.annotate('$p(q)$', [0.8,0.3], fontsize=14)\n",
    "\n",
    "# To compute the change in consumer surplus `numerically'\n",
    "[x,w] = qnwlege(15,p2,p1)\n",
    "intn = w.T * f(x)\n",
    "\n",
    "# To compute the change in consumer surplus `analytically'\n",
    "F = lambda p: (0.15/(1-1.25))*p**(1-1.25)\n",
    "inta = F(p1)-F(p2)\n",
    "\n",
    "ax.set_aspect('equal')\n",
    "ax.set(xlim=[qmin, qmax], xticks=[qmin,q1,q2,qmax], xticklabels=[r'$0$', r'$q_1$',r'$q_2$',r'$q$'],\n",
    "       ylim=[pmin, pmax], yticks= [p1, p2, pmax], yticklabels=[r'$p_1$', r'$p_2$', r'$p$']);"
   ]
  }
 ],
 "metadata": {
  "kernelspec": {
   "display_name": "Python 3.9.7 ('base')",
   "language": "python",
   "name": "python3"
  },
  "language_info": {
   "codemirror_mode": {
    "name": "ipython",
    "version": 3
   },
   "file_extension": ".py",
   "mimetype": "text/x-python",
   "name": "python",
   "nbconvert_exporter": "python",
   "pygments_lexer": "ipython3",
   "version": "3.9.7"
  },
  "vscode": {
   "interpreter": {
    "hash": "ad2bdc8ecc057115af97d19610ffacc2b4e99fae6737bb82f5d7fb13d2f2c186"
   }
  }
 },
 "nbformat": 4,
 "nbformat_minor": 4
}
