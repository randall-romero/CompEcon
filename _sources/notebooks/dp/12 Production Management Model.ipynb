{
 "cells": [
  {
   "cell_type": "markdown",
   "metadata": {},
   "source": [
    "# Production Management Model\n",
    "\n",
    "**Randall Romero Aguilar, PhD**\n",
    "\n",
    "This demo is based on the original Matlab demo accompanying the  <a href=\"https://mitpress.mit.edu/books/applied-computational-economics-and-finance\">Computational Economics and Finance</a> 2001 textbook by Mario Miranda and Paul Fackler.\n",
    "\n",
    "Original (Matlab) CompEcon file: **demdp01.m**\n",
    "\n",
    "Running this file requires the Python version of CompEcon. This can be installed with pip by running\n",
    "\n",
    "    !pip install compecon --upgrade\n",
    "\n",
    "**WARNING** This demo is not running. Problem with dpmodel.\n",
    "\n",
    "TODO: Fix error in dpmodel.\n",
    "\n",
    "<i>Last updated: 2021-Oct-01</i>\n",
    "<hr>"
   ]
  },
  {
   "cell_type": "markdown",
   "source": [
    "## About\n",
    "\n",
    "Profit maximizing entrepeneur must decide how much to produce, subject to production adjustment costs.\n",
    "\n",
    "- States\n",
    "    -     i       market price (discrete)\n",
    "    -     s       lagged production (continuous)\n",
    "- Actions\n",
    "    -     x       current production\n",
    "- Parameters\n",
    "    - $\\alpha$    -- marginal adjustment cost\n",
    "    - $\\beta$     -- marginal production cost parameters\n",
    "    - pbar       -- long-run average market price \n",
    "    - $\\mu$      -- mean log price\n",
    "    - $\\sigma$     -- market price shock standard deviation\n",
    "    - $\\delta$     -- discount factor\n",
    "   \n",
    "    "
   ],
   "metadata": {
    "collapsed": false
   }
  },
  {
   "cell_type": "code",
   "execution_count": 1,
   "metadata": {},
   "outputs": [],
   "source": [
    "import numpy as np\n",
    "import matplotlib.pyplot as plt\n",
    "from compecon import BasisSpline, DPmodel, DPoptions, qnwlogn, demo, BasisChebyshev\n",
    "import seaborn as sns\n",
    "import pandas as pd"
   ]
  },
  {
   "cell_type": "markdown",
   "metadata": {},
   "source": [
    "### Model parameters\n"
   ]
  },
  {
   "cell_type": "code",
   "execution_count": 2,
   "metadata": {},
   "outputs": [],
   "source": [
    "α, β0, β1, pbar = 0.01, 0.8, 0.03, 1.0 \n",
    "σ, δ = 0.2, 0.9\n",
    "μ = np.log(pbar) - σ**2 / 2"
   ]
  },
  {
   "cell_type": "code",
   "execution_count": 3,
   "metadata": {},
   "outputs": [
    {
     "data": {
      "text/plain": "(0.01, 0.8, 0.03)"
     },
     "execution_count": 3,
     "metadata": {},
     "output_type": "execute_result"
    }
   ],
   "source": [
    "α, β0, β1"
   ]
  },
  {
   "cell_type": "markdown",
   "metadata": {},
   "source": [
    "### Continuous state shock distribution"
   ]
  },
  {
   "cell_type": "code",
   "execution_count": 4,
   "metadata": {},
   "outputs": [],
   "source": [
    "m = 3  #number of market price shocks\n",
    "p, w = qnwlogn(m, μ, σ**2) \n",
    "q = np.repeat(w,3).reshape(3,3).T"
   ]
  },
  {
   "cell_type": "markdown",
   "metadata": {},
   "source": [
    "### State space\n",
    "The state variable is s=\"lagged production\", which we restrict to $s\\in[0, 20]$. \n",
    "\n",
    "Here, we represent it with a cubic spline basis, with $n=50$ nodes."
   ]
  },
  {
   "cell_type": "code",
   "execution_count": 5,
   "metadata": {},
   "outputs": [],
   "source": [
    "n, smin, smax = 5, 0.0, 20.0\n",
    "basis = BasisChebyshev(n, smin, smax, labels=['lagged production'])"
   ]
  },
  {
   "cell_type": "markdown",
   "metadata": {},
   "source": [
    "The discrete state is given by the price *p*"
   ]
  },
  {
   "cell_type": "code",
   "execution_count": 6,
   "metadata": {},
   "outputs": [],
   "source": [
    "prices = ['p_low', 'p_mid', 'p_high']"
   ]
  },
  {
   "cell_type": "markdown",
   "metadata": {},
   "source": [
    "### Action space\n",
    "The choice variable x=\"current production\" must be nonnegative."
   ]
  },
  {
   "cell_type": "code",
   "execution_count": 7,
   "metadata": {},
   "outputs": [],
   "source": [
    "def bounds(s, i, j=None):\n",
    "    return np.zeros_like(s), np.inf + np.zeros_like(s)"
   ]
  },
  {
   "cell_type": "markdown",
   "metadata": {},
   "source": [
    "### Reward function\n",
    "The reward function is "
   ]
  },
  {
   "cell_type": "code",
   "execution_count": 8,
   "metadata": {},
   "outputs": [],
   "source": [
    "def reward(s, q, i, j=None):\n",
    "    u = p[i]*q - (β0*q + 0.5*β1*q**2) - 0.5*α*((q-s)**2)\n",
    "    ux = p[i] - β0 - β1*q - α*(q-s)\n",
    "    uxx = (-β1-α)*np.ones_like(s)    \n",
    "    return u, ux, uxx"
   ]
  },
  {
   "cell_type": "markdown",
   "metadata": {},
   "source": [
    "### State transition function\n",
    "Next period, reservoir level wealth will be equal to current level minus irrigation plus random rainfall:"
   ]
  },
  {
   "cell_type": "code",
   "execution_count": 9,
   "metadata": {},
   "outputs": [],
   "source": [
    "def transition(s, q, i, j=None, in_=None, e=None):\n",
    "    g = q\n",
    "    gx = np.ones_like(q)\n",
    "    gxx = np.zeros_like(q)\n",
    "    return g, gx, gxx"
   ]
  },
  {
   "cell_type": "markdown",
   "metadata": {},
   "source": [
    "### Model structure\n",
    "# TODO:  CORREGIR ESTA ECUACION\n",
    "\n",
    "The value of wealth $s$ satisfies the Bellman equation \n",
    "\\begin{equation*}\n",
    "V(s) = \\max_x\\left\\{\\left(\\frac{a_0}{1+a_1}\\right)x^{1+a1} + \\left(\\frac{b_0}{1+b_1}\\right)(s-x)^{1+b1}+ \\delta V(s-x+e)  \\right\\}\n",
    "\\end{equation*}\n",
    "\n",
    "To solve and simulate this model,use the CompEcon class `DPmodel`"
   ]
  },
  {
   "cell_type": "code",
   "execution_count": 10,
   "metadata": {},
   "outputs": [],
   "source": [
    "firm = DPmodel(basis, reward, transition, bounds,q=q,                      \n",
    "               i=prices, x=['Production'],discount=δ )"
   ]
  },
  {
   "cell_type": "code",
   "execution_count": 11,
   "metadata": {},
   "outputs": [
    {
     "data": {
      "text/plain": "A CONTINUOUS STATE, CONTINUOUS ACTION DYNAMIC MODEL.\n\n\t* Continuous states:\n\t\t0 :  lagged production --> 5 nodes in [0.00, 20.00]\n\n\t* Continuous actions\n\t\t0 :  Production\n\n\t* Discrete states\n\t\t0 :  p_low\n\t\t1 :  p_mid\n\t\t2 :  p_high"
     },
     "execution_count": 11,
     "metadata": {},
     "output_type": "execute_result"
    }
   ],
   "source": [
    "firm"
   ]
  },
  {
   "cell_type": "markdown",
   "metadata": {},
   "source": [
    "## Solving the model"
   ]
  },
  {
   "cell_type": "markdown",
   "metadata": {},
   "source": [
    "Solving the growth model by collocation. "
   ]
  },
  {
   "cell_type": "code",
   "execution_count": 12,
   "metadata": {},
   "outputs": [
    {
     "name": "stdout",
     "output_type": "stream",
     "text": [
      "Solving infinite-horizon model collocation equation by Newton's method\n",
      "iter change       time    \n",
      "------------------------------\n",
      "   0       1.5e+01    0.0180\n",
      "   1       1.6e-01    0.0379\n",
      "   2       8.3e-05    0.0529\n",
      "   3       4.3e-12    0.0689\n",
      "Elapsed Time =    0.07 Seconds\n"
     ]
    },
    {
     "ename": "IndexError",
     "evalue": "index 1 is out of bounds for axis 0 with size 1",
     "output_type": "error",
     "traceback": [
      "\u001B[1;31m---------------------------------------------------------------------------\u001B[0m",
      "\u001B[1;31mIndexError\u001B[0m                                Traceback (most recent call last)",
      "\u001B[1;32m~\\AppData\\Local\\Temp/ipykernel_21764/3221958741.py\u001B[0m in \u001B[0;36m<module>\u001B[1;34m\u001B[0m\n\u001B[1;32m----> 1\u001B[1;33m \u001B[0mS\u001B[0m \u001B[1;33m=\u001B[0m \u001B[0mfirm\u001B[0m\u001B[1;33m.\u001B[0m\u001B[0msolve\u001B[0m\u001B[1;33m(\u001B[0m\u001B[1;33m)\u001B[0m\u001B[1;33m\u001B[0m\u001B[1;33m\u001B[0m\u001B[0m\n\u001B[0m\u001B[0;32m      2\u001B[0m \u001B[0mS\u001B[0m\u001B[1;33m.\u001B[0m\u001B[0mhead\u001B[0m\u001B[1;33m(\u001B[0m\u001B[1;33m)\u001B[0m\u001B[1;33m\u001B[0m\u001B[1;33m\u001B[0m\u001B[0m\n\u001B[0;32m      3\u001B[0m \u001B[1;33m\u001B[0m\u001B[0m\n",
      "\u001B[1;32m~\\OneDrive\\Documents\\Python\\CompEcon\\compecon\\dpmodel.py\u001B[0m in \u001B[0;36msolve\u001B[1;34m(self, v, x, nr, **kwargs)\u001B[0m\n\u001B[0;32m    463\u001B[0m \u001B[1;33m\u001B[0m\u001B[0m\n\u001B[0;32m    464\u001B[0m         \u001B[1;32mif\u001B[0m \u001B[0mnr\u001B[0m \u001B[1;32mis\u001B[0m \u001B[1;32mnot\u001B[0m \u001B[1;32mNone\u001B[0m\u001B[1;33m:\u001B[0m\u001B[1;33m\u001B[0m\u001B[1;33m\u001B[0m\u001B[0m\n\u001B[1;32m--> 465\u001B[1;33m             \u001B[1;32mreturn\u001B[0m \u001B[0mself\u001B[0m\u001B[1;33m.\u001B[0m\u001B[0msolution\u001B[0m\u001B[1;33m(\u001B[0m\u001B[0mnr\u001B[0m\u001B[1;33m)\u001B[0m\u001B[1;33m\u001B[0m\u001B[1;33m\u001B[0m\u001B[0m\n\u001B[0m\u001B[0;32m    466\u001B[0m \u001B[1;33m\u001B[0m\u001B[0m\n\u001B[0;32m    467\u001B[0m     \u001B[1;32mdef\u001B[0m \u001B[0msolution\u001B[0m\u001B[1;33m(\u001B[0m\u001B[0mself\u001B[0m\u001B[1;33m,\u001B[0m \u001B[0mnr\u001B[0m\u001B[1;33m=\u001B[0m\u001B[1;36m10\u001B[0m\u001B[1;33m,\u001B[0m \u001B[0mresid\u001B[0m\u001B[1;33m=\u001B[0m\u001B[1;32mTrue\u001B[0m\u001B[1;33m)\u001B[0m\u001B[1;33m:\u001B[0m\u001B[1;33m\u001B[0m\u001B[1;33m\u001B[0m\u001B[0m\n",
      "\u001B[1;32m~\\OneDrive\\Documents\\Python\\CompEcon\\compecon\\dpmodel.py\u001B[0m in \u001B[0;36msolution\u001B[1;34m(self, nr, resid)\u001B[0m\n\u001B[0;32m    513\u001B[0m         \u001B[1;31m# COMPUTE OPTIMAL POLICY AND VALUE\u001B[0m\u001B[1;33m\u001B[0m\u001B[1;33m\u001B[0m\u001B[1;33m\u001B[0m\u001B[0m\n\u001B[0;32m    514\u001B[0m         \u001B[0mxr\u001B[0m \u001B[1;33m=\u001B[0m \u001B[0mself\u001B[0m\u001B[1;33m.\u001B[0m\u001B[0mPolicy_j\u001B[0m\u001B[1;33m(\u001B[0m\u001B[0msr\u001B[0m\u001B[1;33m,\u001B[0m \u001B[0mdropdim\u001B[0m\u001B[1;33m=\u001B[0m\u001B[1;32mFalse\u001B[0m\u001B[1;33m)\u001B[0m  \u001B[1;31m# [0] because there is only 1 order\u001B[0m\u001B[1;33m\u001B[0m\u001B[1;33m\u001B[0m\u001B[0m\n\u001B[1;32m--> 515\u001B[1;33m         \u001B[0mvr\u001B[0m \u001B[1;33m=\u001B[0m \u001B[0mself\u001B[0m\u001B[1;33m.\u001B[0m\u001B[0mvmax\u001B[0m\u001B[1;33m(\u001B[0m\u001B[0msr\u001B[0m\u001B[1;33m,\u001B[0m \u001B[0mxr\u001B[0m\u001B[1;33m,\u001B[0m \u001B[0mself\u001B[0m\u001B[1;33m.\u001B[0m\u001B[0mValue\u001B[0m\u001B[1;33m)\u001B[0m\u001B[1;33m\u001B[0m\u001B[1;33m\u001B[0m\u001B[0m\n\u001B[0m\u001B[0;32m    516\u001B[0m         \u001B[0mv_LHS\u001B[0m \u001B[1;33m=\u001B[0m \u001B[0mself\u001B[0m\u001B[1;33m.\u001B[0m\u001B[0mValue\u001B[0m\u001B[1;33m(\u001B[0m\u001B[0msr\u001B[0m\u001B[1;33m,\u001B[0m \u001B[0mdropdim\u001B[0m\u001B[1;33m=\u001B[0m\u001B[1;32mFalse\u001B[0m\u001B[1;33m)\u001B[0m \u001B[1;31m# LHS of Bellman equation: V(s)\u001B[0m\u001B[1;33m\u001B[0m\u001B[1;33m\u001B[0m\u001B[0m\n\u001B[0;32m    517\u001B[0m \u001B[1;33m\u001B[0m\u001B[0m\n",
      "\u001B[1;32m~\\OneDrive\\Documents\\Python\\CompEcon\\compecon\\dpmodel.py\u001B[0m in \u001B[0;36mvmax\u001B[1;34m(self, s, x, Value, dVc)\u001B[0m\n\u001B[0;32m    864\u001B[0m             \u001B[1;32mfor\u001B[0m \u001B[0mi\u001B[0m \u001B[1;32min\u001B[0m \u001B[0mrange\u001B[0m\u001B[1;33m(\u001B[0m\u001B[0mni\u001B[0m\u001B[1;33m)\u001B[0m\u001B[1;33m:\u001B[0m\u001B[1;33m\u001B[0m\u001B[1;33m\u001B[0m\u001B[0m\n\u001B[0;32m    865\u001B[0m                 \u001B[1;32mfor\u001B[0m \u001B[0mj\u001B[0m \u001B[1;32min\u001B[0m \u001B[0mrange\u001B[0m\u001B[1;33m(\u001B[0m\u001B[0mnj\u001B[0m\u001B[1;33m)\u001B[0m\u001B[1;33m:\u001B[0m\u001B[1;33m\u001B[0m\u001B[1;33m\u001B[0m\u001B[0m\n\u001B[1;32m--> 866\u001B[1;33m                     \u001B[0mv\u001B[0m\u001B[1;33m[\u001B[0m\u001B[0mi\u001B[0m\u001B[1;33m,\u001B[0m \u001B[0mj\u001B[0m\u001B[1;33m]\u001B[0m \u001B[1;33m=\u001B[0m \u001B[0mself\u001B[0m\u001B[1;33m.\u001B[0m\u001B[0mvmax_continuous\u001B[0m\u001B[1;33m(\u001B[0m\u001B[0mValue\u001B[0m\u001B[1;33m,\u001B[0m \u001B[0ms\u001B[0m\u001B[1;33m,\u001B[0m \u001B[0mx\u001B[0m\u001B[1;33m[\u001B[0m\u001B[0mi\u001B[0m\u001B[1;33m,\u001B[0m \u001B[0mj\u001B[0m\u001B[1;33m]\u001B[0m\u001B[1;33m,\u001B[0m \u001B[0mi\u001B[0m\u001B[1;33m,\u001B[0m \u001B[0mj\u001B[0m\u001B[1;33m)\u001B[0m\u001B[1;33m\u001B[0m\u001B[1;33m\u001B[0m\u001B[0m\n\u001B[0m\u001B[0;32m    867\u001B[0m         \u001B[1;32melse\u001B[0m\u001B[1;33m:\u001B[0m\u001B[1;33m\u001B[0m\u001B[1;33m\u001B[0m\u001B[0m\n\u001B[0;32m    868\u001B[0m             \u001B[1;32mfor\u001B[0m \u001B[0mi\u001B[0m \u001B[1;32min\u001B[0m \u001B[0mrange\u001B[0m\u001B[1;33m(\u001B[0m\u001B[0mni\u001B[0m\u001B[1;33m)\u001B[0m\u001B[1;33m:\u001B[0m\u001B[1;33m\u001B[0m\u001B[1;33m\u001B[0m\u001B[0m\n",
      "\u001B[1;31mIndexError\u001B[0m: index 1 is out of bounds for axis 0 with size 1"
     ]
    }
   ],
   "source": [
    "S = firm.solve()\n",
    "S.head()"
   ]
  },
  {
   "cell_type": "code",
   "execution_count": null,
   "metadata": {},
   "outputs": [],
   "source": [
    "firm.Policy_j(firm.Policy.nodes,dropdim=True).shape"
   ]
  },
  {
   "cell_type": "markdown",
   "metadata": {},
   "source": [
    "`DPmodel.solve` returns a pandas `DataFrame` with the following data:"
   ]
  },
  {
   "cell_type": "markdown",
   "metadata": {},
   "source": [
    "We are also interested in the shadow price of wealth (the first derivative of the value function)."
   ]
  },
  {
   "cell_type": "code",
   "execution_count": null,
   "metadata": {},
   "outputs": [],
   "source": [
    "S['shadow price'] = water_model.Value(S['Reservoir'],1)\n",
    "S.head()"
   ]
  },
  {
   "cell_type": "markdown",
   "metadata": {},
   "source": [
    "## Plotting the results"
   ]
  },
  {
   "cell_type": "markdown",
   "metadata": {},
   "source": [
    "### Optimal Policy"
   ]
  },
  {
   "cell_type": "code",
   "execution_count": null,
   "metadata": {},
   "outputs": [],
   "source": [
    "fig1 = demo.figure('Optimal Irrigation Policy', 'Reservoir Level', 'Irrigation')\n",
    "plt.plot(S['Irrigation'])\n",
    "demo.annotate(sstar, xstar,f'$s^*$ = {sstar:.2f}\\n$x^*$ = {xstar:.2f}','bo', (10, -6),ms=10,fs=11)"
   ]
  },
  {
   "cell_type": "markdown",
   "metadata": {},
   "source": [
    "### Value Function"
   ]
  },
  {
   "cell_type": "code",
   "execution_count": null,
   "metadata": {},
   "outputs": [],
   "source": [
    "fig2 = demo.figure('Value Function', 'Reservoir Level', 'Value')\n",
    "plt.plot(S['value'])"
   ]
  },
  {
   "cell_type": "markdown",
   "metadata": {},
   "source": [
    "### Shadow Price Function"
   ]
  },
  {
   "cell_type": "code",
   "execution_count": null,
   "metadata": {},
   "outputs": [],
   "source": [
    "fig3 = demo.figure('Shadow Price Function', 'Reservoir Level', 'Shadow Price')\n",
    "plt.plot(S['shadow price'])"
   ]
  },
  {
   "cell_type": "markdown",
   "metadata": {},
   "source": [
    "### Chebychev Collocation Residual"
   ]
  },
  {
   "cell_type": "code",
   "execution_count": null,
   "metadata": {},
   "outputs": [],
   "source": [
    "fig4 = demo.figure('Bellman Equation Residual', 'Reservoir Level', 'Residual')\n",
    "plt.hlines(0,smin,smax,'k',linestyles='--')\n",
    "plt.plot(S[['resid']])\n",
    "plt.ticklabel_format(style='sci', axis='y', scilimits=(-1,1))"
   ]
  },
  {
   "cell_type": "markdown",
   "metadata": {},
   "source": [
    "## Simulating the model\n",
    "\n",
    "We simulate 21 periods of the model starting from $s=s_{\\min}$"
   ]
  },
  {
   "cell_type": "code",
   "execution_count": null,
   "metadata": {},
   "outputs": [],
   "source": [
    "T = 31\n",
    "nrep = 100_000\n",
    "data = water_model.simulate(T, np.tile(smin,nrep))"
   ]
  },
  {
   "cell_type": "markdown",
   "metadata": {},
   "source": [
    "### Simulated State and Policy Paths"
   ]
  },
  {
   "cell_type": "code",
   "execution_count": null,
   "metadata": {},
   "outputs": [],
   "source": [
    "subdata = data[data['_rep'].isin(range(3))]\n",
    "opts = dict(spec='r*', offset=(0, -15), fs=11, ha='right')"
   ]
  },
  {
   "cell_type": "code",
   "execution_count": null,
   "metadata": {},
   "outputs": [],
   "source": [
    "fig6 = demo.figure('Simulated and Expected Reservoir Level','Year', 'Reservoir Level',[0, T + 0.5])\n",
    "plt.plot(data[['time','Reservoir']].groupby('time').mean())\n",
    "plt.plot(subdata.pivot('time','_rep','Reservoir'),lw=1)\n",
    "demo.annotate(T, sstar, f'steady-state reservoir\\n = {sstar:.2f}', **opts)"
   ]
  },
  {
   "cell_type": "code",
   "execution_count": null,
   "metadata": {
    "scrolled": true
   },
   "outputs": [],
   "source": [
    "fig7 = demo.figure('Simulated and Expected Irrigation','Year', 'Irrigation',[0, T + 0.5])\n",
    "plt.plot(data[['time','Irrigation']].groupby('time').mean())\n",
    "plt.plot(subdata.pivot('time','_rep','Irrigation'),lw=1)\n",
    "demo.annotate(T, xstar, f'steady-state irrigation\\n = {xstar:.2f}', **opts)"
   ]
  },
  {
   "cell_type": "markdown",
   "metadata": {},
   "source": [
    "### Ergodic Wealth Distribution"
   ]
  },
  {
   "cell_type": "code",
   "execution_count": null,
   "metadata": {},
   "outputs": [],
   "source": [
    "subdata = data[data['time']==T][['Reservoir','Irrigation']]\n",
    "stats =pd.DataFrame({'Deterministic Steady-State': [sstar, xstar],\n",
    "              'Ergodic Means': subdata.mean(),\n",
    "              'Ergodic Standard Deviations': subdata.std()}).T\n",
    "stats"
   ]
  },
  {
   "cell_type": "code",
   "execution_count": null,
   "metadata": {
    "scrolled": true
   },
   "outputs": [],
   "source": [
    "fig8 = demo.figure('Ergodic Reservoir and Irrigation Distribution','Wealth','Probability')\n",
    "sns.kdeplot(subdata['Reservoir'])\n",
    "sns.kdeplot(subdata['Irrigation'])"
   ]
  },
  {
   "cell_type": "code",
   "execution_count": null,
   "metadata": {},
   "outputs": [],
   "source": [
    "#demo.savefig([fig1,fig2,fig3,fig4,fig5,fig6,fig7,fig8])"
   ]
  }
 ],
 "metadata": {
  "kernelspec": {
   "display_name": "Python 3 (ipykernel)",
   "language": "python",
   "name": "python3"
  },
  "language_info": {
   "codemirror_mode": {
    "name": "ipython",
    "version": 3
   },
   "file_extension": ".py",
   "mimetype": "text/x-python",
   "name": "python",
   "nbconvert_exporter": "python",
   "pygments_lexer": "ipython3",
   "version": "3.8.5"
  }
 },
 "nbformat": 4,
 "nbformat_minor": 4
}