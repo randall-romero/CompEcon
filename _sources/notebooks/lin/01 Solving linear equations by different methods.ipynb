{
 "cells": [
  {
   "cell_type": "markdown",
   "metadata": {},
   "source": [
    "# Solving linear equations by different methods\n",
    "\n",
    "**Randall Romero Aguilar, PhD**\n",
    "\n",
    "This demo is based on the original Matlab demo accompanying the  <a href=\"https://mitpress.mit.edu/books/applied-computational-economics-and-finance\">Computational Economics and Finance</a> 2001 textbook by Mario Miranda and Paul Fackler.\n",
    "\n",
    "Original (Matlab) CompEcon file: **demlin01.m**\n",
    "\n",
    "Running this file requires the Python version of CompEcon. This can be installed with pip by running\n",
    "\n",
    "    !pip install compecon --upgrade\n",
    "\n",
    "<i>Last updated: 2022-Ago-07</i>\n",
    "<hr>\n",
    "\n",
    "    "
   ]
  },
  {
   "cell_type": "code",
   "execution_count": 1,
   "metadata": {
    "collapsed": true
   },
   "outputs": [],
   "source": [
    "import numpy as np\n",
    "import pandas as pd\n",
    "from numpy.linalg import solve, inv\n",
    "from timeit import default_timer as timer\n",
    "from numba import jit"
   ]
  },
  {
   "cell_type": "markdown",
   "metadata": {},
   "source": [
    "Make a function to time "
   ]
  },
  {
   "cell_type": "code",
   "execution_count": 2,
   "metadata": {
    "collapsed": true
   },
   "outputs": [],
   "source": [
    "tic = lambda: timer()\n",
    "toc = lambda t: 1000* (timer() - t)  # ellapsed milliseconds"
   ]
  },
  {
   "cell_type": "markdown",
   "metadata": {},
   "source": [
    "## Milliseconds required to solve n by n linear equation $Ax = b$\n",
    "m times using solve(A, b) and dot(inv(A), b), computing inverse only once."
   ]
  },
  {
   "cell_type": "code",
   "execution_count": 3,
   "metadata": {},
   "outputs": [],
   "source": [
    "mvalues = [1, 100]\n",
    "nvalues = [50, 500]\n",
    "\n",
    "cases = pd.MultiIndex.from_product([mvalues, nvalues], names=['m','n'])\n",
    "results0 = pd.DataFrame(index=cases, columns=['solve(A,b)', 'inv(A) @ b'])\n",
    "\n",
    "for m, n in cases:\n",
    "    A = np.random.rand(n, n)\n",
    "    b = np.random.rand(n, 1)\n",
    "\n",
    "    tt = tic()\n",
    "    for j in range(m):\n",
    "        x = solve(A, b)\n",
    "\n",
    "    results0.loc[(m, n), 'solve(A,b)'] = toc(tt)\n",
    "\n",
    "    tt = tic()\n",
    "    Ainv = inv(A)\n",
    "    for j in range(m):\n",
    "        x = Ainv @ b\n",
    "\n",
    "    results0.loc[(m, n), 'inv(A) @ b'] = toc(tt)"
   ]
  },
  {
   "cell_type": "code",
   "execution_count": 4,
   "metadata": {},
   "outputs": [],
   "source": [
    "@jit\n",
    "def using_solve(A, b, m):\n",
    "    for j in range(m):\n",
    "        x = solve(A, b)\n",
    "\n",
    "@jit\n",
    "def using_inv(Ainv, b, m):    \n",
    "    for j in range(m):\n",
    "        x = Ainv @ b\n",
    "\n",
    "#run once to compile\n",
    "using_solve(A, b, m)\n",
    "using_inv(Ainv, b, m)"
   ]
  },
  {
   "cell_type": "code",
   "execution_count": 5,
   "metadata": {},
   "outputs": [],
   "source": [
    "results1 = pd.DataFrame(index=cases, columns=['solve(A,b)', 'inv(A) @ b'])\n",
    "\n",
    "for m, n in cases:\n",
    "    A = np.random.rand(n, n)\n",
    "    b = np.random.rand(n, 1)\n",
    "\n",
    "    tt = tic()\n",
    "    using_solve(A, b, m)\n",
    "\n",
    "    results1.loc[(m, n), 'solve(A,b)'] = toc(tt)\n",
    "\n",
    "    tt = tic()\n",
    "    Ainv = inv(A)\n",
    "    using_inv(Ainv, b, m)\n",
    "\n",
    "    results1.loc[(m, n), 'inv(A) @ b'] = toc(tt)"
   ]
  },
  {
   "cell_type": "code",
   "execution_count": 6,
   "metadata": {},
   "outputs": [
    {
     "data": {
      "text/html": [
       "<style type=\"text/css\">\n",
       "#T_2ff97_row0_col2, #T_2ff97_row1_col2, #T_2ff97_row2_col3, #T_2ff97_row3_col3 {\n",
       "  background-color: yellow;\n",
       "}\n",
       "</style>\n",
       "<table id=\"T_2ff97\">\n",
       "  <thead>\n",
       "    <tr>\n",
       "      <th class=\"blank\" >&nbsp;</th>\n",
       "      <th class=\"blank level0\" >&nbsp;</th>\n",
       "      <th id=\"T_2ff97_level0_col0\" class=\"col_heading level0 col0\" colspan=\"2\">without jit</th>\n",
       "      <th id=\"T_2ff97_level0_col2\" class=\"col_heading level0 col2\" colspan=\"2\">using jit</th>\n",
       "    </tr>\n",
       "    <tr>\n",
       "      <th class=\"blank\" >&nbsp;</th>\n",
       "      <th class=\"blank level1\" >&nbsp;</th>\n",
       "      <th id=\"T_2ff97_level1_col0\" class=\"col_heading level1 col0\" >solve(A,b)</th>\n",
       "      <th id=\"T_2ff97_level1_col1\" class=\"col_heading level1 col1\" >inv(A) @ b</th>\n",
       "      <th id=\"T_2ff97_level1_col2\" class=\"col_heading level1 col2\" >solve(A,b)</th>\n",
       "      <th id=\"T_2ff97_level1_col3\" class=\"col_heading level1 col3\" >inv(A) @ b</th>\n",
       "    </tr>\n",
       "    <tr>\n",
       "      <th class=\"index_name level0\" >m</th>\n",
       "      <th class=\"index_name level1\" >n</th>\n",
       "      <th class=\"blank col0\" >&nbsp;</th>\n",
       "      <th class=\"blank col1\" >&nbsp;</th>\n",
       "      <th class=\"blank col2\" >&nbsp;</th>\n",
       "      <th class=\"blank col3\" >&nbsp;</th>\n",
       "    </tr>\n",
       "  </thead>\n",
       "  <tbody>\n",
       "    <tr>\n",
       "      <th id=\"T_2ff97_level0_row0\" class=\"row_heading level0 row0\" rowspan=\"2\">1</th>\n",
       "      <th id=\"T_2ff97_level1_row0\" class=\"row_heading level1 row0\" >50</th>\n",
       "      <td id=\"T_2ff97_row0_col0\" class=\"data row0 col0\" >8.324500</td>\n",
       "      <td id=\"T_2ff97_row0_col1\" class=\"data row0 col1\" >0.877800</td>\n",
       "      <td id=\"T_2ff97_row0_col2\" class=\"data row0 col2\" >0.104700</td>\n",
       "      <td id=\"T_2ff97_row0_col3\" class=\"data row0 col3\" >0.335600</td>\n",
       "    </tr>\n",
       "    <tr>\n",
       "      <th id=\"T_2ff97_level1_row1\" class=\"row_heading level1 row1\" >500</th>\n",
       "      <td id=\"T_2ff97_row1_col0\" class=\"data row1 col0\" >4.522800</td>\n",
       "      <td id=\"T_2ff97_row1_col1\" class=\"data row1 col1\" >8.574500</td>\n",
       "      <td id=\"T_2ff97_row1_col2\" class=\"data row1 col2\" >4.324100</td>\n",
       "      <td id=\"T_2ff97_row1_col3\" class=\"data row1 col3\" >9.878600</td>\n",
       "    </tr>\n",
       "    <tr>\n",
       "      <th id=\"T_2ff97_level0_row2\" class=\"row_heading level0 row2\" rowspan=\"2\">100</th>\n",
       "      <th id=\"T_2ff97_level1_row2\" class=\"row_heading level1 row2\" >50</th>\n",
       "      <td id=\"T_2ff97_row2_col0\" class=\"data row2 col0\" >7.059400</td>\n",
       "      <td id=\"T_2ff97_row2_col1\" class=\"data row2 col1\" >4.232200</td>\n",
       "      <td id=\"T_2ff97_row2_col2\" class=\"data row2 col2\" >4.538300</td>\n",
       "      <td id=\"T_2ff97_row2_col3\" class=\"data row2 col3\" >0.424400</td>\n",
       "    </tr>\n",
       "    <tr>\n",
       "      <th id=\"T_2ff97_level1_row3\" class=\"row_heading level1 row3\" >500</th>\n",
       "      <td id=\"T_2ff97_row3_col0\" class=\"data row3 col0\" >496.136100</td>\n",
       "      <td id=\"T_2ff97_row3_col1\" class=\"data row3 col1\" >15.551200</td>\n",
       "      <td id=\"T_2ff97_row3_col2\" class=\"data row3 col2\" >382.746000</td>\n",
       "      <td id=\"T_2ff97_row3_col3\" class=\"data row3 col3\" >12.598900</td>\n",
       "    </tr>\n",
       "  </tbody>\n",
       "</table>\n"
      ],
      "text/plain": [
       "<pandas.io.formats.style.Styler at 0x234769f7c10>"
      ]
     },
     "execution_count": 6,
     "metadata": {},
     "output_type": "execute_result"
    }
   ],
   "source": [
    "pd.concat([results0, results1], keys=['without jit', 'using jit'], axis=1).style.highlight_min(axis=1)"
   ]
  }
 ],
 "metadata": {
  "kernelspec": {
   "display_name": "Python 3.9.7 ('base')",
   "language": "python",
   "name": "python3"
  },
  "language_info": {
   "codemirror_mode": {
    "name": "ipython",
    "version": 3
   },
   "file_extension": ".py",
   "mimetype": "text/x-python",
   "name": "python",
   "nbconvert_exporter": "python",
   "pygments_lexer": "ipython3",
   "version": "3.9.7"
  },
  "vscode": {
   "interpreter": {
    "hash": "ad2bdc8ecc057115af97d19610ffacc2b4e99fae6737bb82f5d7fb13d2f2c186"
   }
  }
 },
 "nbformat": 4,
 "nbformat_minor": 0
}
