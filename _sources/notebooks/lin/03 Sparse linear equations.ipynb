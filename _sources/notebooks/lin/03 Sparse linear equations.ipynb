{
 "cells": [
  {
   "cell_type": "markdown",
   "metadata": {},
   "source": [
    "# Sparse linear equations\n",
    "\n",
    "**Randall Romero Aguilar, PhD**\n",
    "\n",
    "This demo is based on the original Matlab demo accompanying the  <a href=\"https://mitpress.mit.edu/books/applied-computational-economics-and-finance\">Computational Economics and Finance</a> 2001 textbook by Mario Miranda and Paul Fackler.\n",
    "\n",
    "Original (Matlab) CompEcon file: **demlin03.m**\n",
    "\n",
    "Running this file requires the Python version of CompEcon. This can be installed with pip by running\n",
    "\n",
    "    !pip install compecon --upgrade\n",
    "\n",
    "<i>Last updated: 2022-Ago-07</i>\n",
    "<hr>"
   ]
  },
  {
   "cell_type": "code",
   "execution_count": 1,
   "metadata": {
    "collapsed": false
   },
   "outputs": [],
   "source": [
    "import numpy as np\n",
    "from numpy.linalg import solve\n",
    "from scipy.sparse.linalg import spsolve\n",
    "from timeit import default_timer as timer\n",
    "import matplotlib.pyplot as plt\n",
    "from scipy.sparse import csc_matrix\n"
   ]
  },
  {
   "cell_type": "markdown",
   "metadata": {},
   "source": [
    "Define some timing functions"
   ]
  },
  {
   "cell_type": "code",
   "execution_count": 2,
   "metadata": {
    "collapsed": true
   },
   "outputs": [],
   "source": [
    "tic = lambda: timer()\n",
    "toc = lambda t: timer() - t"
   ]
  },
  {
   "cell_type": "markdown",
   "metadata": {},
   "source": [
    "Compute the time to solve a system of equations, for full and sparce matrices"
   ]
  },
  {
   "cell_type": "code",
   "execution_count": 3,
   "metadata": {
    "collapsed": true
   },
   "outputs": [],
   "source": [
    "N, M = 800, 100\n",
    "\n",
    "AA = np.random.rand(N, N)\n",
    "bb = np.random.rand(N, 1)\n",
    "for i in range(N):\n",
    "    for j in range(N):\n",
    "        if abs(i - j) > 1:\n",
    "            AA[i,j] = 0\n",
    "\n",
    "nvalues = np.arange(20,N+1,30)\n",
    "ratio = np.zeros_like(nvalues, dtype=float)\n",
    "\n",
    "for k, n in enumerate(nvalues):\n",
    "    A = AA[:n, :n]\n",
    "    b = bb[:n]\n",
    "    tt = tic()\n",
    "    for i in range(M):\n",
    "        x = solve(A, b)\n",
    "\n",
    "    toc1 = toc(tt)\n",
    "\n",
    "    S = csc_matrix(A)\n",
    "    tt = tic()\n",
    "    for i in range(M):\n",
    "        x = spsolve(S, b)\n",
    "\n",
    "    toc2 = toc(tt)\n",
    "    ratio[k] = toc2 / toc1"
   ]
  },
  {
   "cell_type": "markdown",
   "metadata": {},
   "source": [
    "Plot effort ratio"
   ]
  },
  {
   "cell_type": "code",
   "execution_count": 4,
   "metadata": {
    "collapsed": false
   },
   "outputs": [
    {
     "data": {
      "image/png": "[encoded data removed]",
      "text/plain": [
       "<Figure size 864x360 with 1 Axes>"
      ]
     },
     "metadata": {
      "needs_background": "light"
     },
     "output_type": "display_data"
    }
   ],
   "source": [
    "fig, ax = plt.subplots(figsize=[12, 5])\n",
    "ax.plot(nvalues, ratio)\n",
    "ax.set(xlabel='n',\n",
    "       ylabel='Ratio', \n",
    "       title='Ratio of Sparse Solve Time to Full Solve Time')\n",
    "\n",
    "ax.spines[['top', 'right']].set_visible(False)"
   ]
  }
 ],
 "metadata": {
  "kernelspec": {
   "display_name": "Python 3.9.7 ('base')",
   "language": "python",
   "name": "python3"
  },
  "language_info": {
   "codemirror_mode": {
    "name": "ipython",
    "version": 3
   },
   "file_extension": ".py",
   "mimetype": "text/x-python",
   "name": "python",
   "nbconvert_exporter": "python",
   "pygments_lexer": "ipython3",
   "version": "3.9.7"
  },
  "vscode": {
   "interpreter": {
    "hash": "ad2bdc8ecc057115af97d19610ffacc2b4e99fae6737bb82f5d7fb13d2f2c186"
   }
  }
 },
 "nbformat": 4,
 "nbformat_minor": 0
}
