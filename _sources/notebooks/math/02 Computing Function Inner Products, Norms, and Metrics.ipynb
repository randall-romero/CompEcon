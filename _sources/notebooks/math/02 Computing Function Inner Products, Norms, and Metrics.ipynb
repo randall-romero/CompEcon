{
 "cells": [
  {
   "cell_type": "markdown",
   "metadata": {},
   "source": [
    "# Computing Function Inner Products, Norms & Metrics\n",
    "\n",
    "**Randall Romero Aguilar, PhD**\n",
    "\n",
    "This demo is based on the original Matlab demo accompanying the  <a href=\"https://mitpress.mit.edu/books/applied-computational-economics-and-finance\">Computational Economics and Finance</a> 2001 textbook by Mario Miranda and Paul Fackler.\n",
    "\n",
    "Original (Matlab) CompEcon file: **demmath02.m**\n",
    "\n",
    "Running this file requires the Python version of CompEcon. This can be installed with pip by running\n",
    "\n",
    "    !pip install compecon --upgrade\n",
    "\n",
    "<i>Last updated: 2022-Oct-23</i>\n",
    "<hr>"
   ]
  },
  {
   "cell_type": "code",
   "execution_count": 1,
   "metadata": {
    "collapsed": true
   },
   "outputs": [],
   "source": [
    "import numpy as np\n",
    "import matplotlib.pyplot as plt\n",
    "plt.style.use('seaborn-dark')\n",
    "import scipy.integrate as integrate\n",
    "import scipy as sp"
   ]
  },
  {
   "cell_type": "markdown",
   "metadata": {},
   "source": [
    "##  Class function"
   ]
  },
  {
   "cell_type": "markdown",
   "metadata": {},
   "source": [
    "We now define the class **function**. An object of class **function** operates just as a lambda function, but it supports several function operations: sum, substraction, multiplication, division, power, absolute value, integral,  norm, and angle.\n",
    "\n",
    "This example illustrates how it is possible to overwrite the methods of the function class."
   ]
  },
  {
   "cell_type": "code",
   "execution_count": 2,
   "metadata": {},
   "outputs": [],
   "source": [
    "class function:\n",
    "    def __init__(self, func):\n",
    "        self.f = func     \n",
    "    \n",
    "    def __call__(self, *args):\n",
    "        return self.f(*args)\n",
    "    \n",
    "    def __add__(self, other):\n",
    "        return function(lambda *args: self.f(*args) + other.f(*args))\n",
    "    \n",
    "    def __sub__(self, other):\n",
    "        return function(lambda *args: self.f(*args) - other.f(*args))\n",
    "    \n",
    "    def __mul__(self, other):\n",
    "        return function(lambda *args: self.f(*args) * other.f(*args))\n",
    "   \n",
    "    def __pow__(self, n):\n",
    "        return function(lambda *args: self.f(*args) ** n)\n",
    "   \n",
    "    def __truediv__(self, other):\n",
    "        return function(lambda *args: self.f(*args) / other.f(*args))\n",
    "   \n",
    "    def integral(self, l, h):\n",
    "        return integrate.quad(self.f, l, h)[0]\n",
    "    \n",
    "    def abs(self):\n",
    "        return function(lambda *args: np.abs(self.f(*args)))\n",
    "    \n",
    "    def norm(self, l, h, p=2):\n",
    "        return  ((self.abs()) ** p).integral(l, h) ** (1/p)\n",
    "    \n",
    "    def angle(self, other, l, h):\n",
    "        fg = (self * other).integral(l, u)\n",
    "        ff = (self**2).integral(l, u)\n",
    "        gg = (other**2).integral(l, u)\n",
    "        return np.arccos(fg*np.sqrt(ff*gg))*180/np.pi"
   ]
  },
  {
   "cell_type": "markdown",
   "metadata": {},
   "source": [
    "## Compute inner product and angle\n",
    "\n",
    "Define the functions $f(x) = 2x^2-1$ and $g(x)= 4x^3-3x$, both over the domain $[-1,1]$. Compute their inner product and angle."
   ]
  },
  {
   "cell_type": "code",
   "execution_count": 3,
   "metadata": {},
   "outputs": [
    {
     "name": "stdout",
     "output_type": "stream",
     "text": [
      "∫(f*g)(x)dx = 0.00\n",
      "∫(f^2)(x)dx = 0.93\n",
      "∫(g^2)(x)dx = 0.97\n",
      "Angle in degrees = 90°\n"
     ]
    }
   ],
   "source": [
    "l, u = -1, 1\n",
    "f = function(lambda x: 2 * x**2 - 1)\n",
    "g = function(lambda x: 4 * x**3 - 3*x)\n",
    "\n",
    "fg = (f*g).integral(l, u)\n",
    "ff = (f**2).integral(l, u)\n",
    "gg = (g**2).integral(l, u)\n",
    "angle = f.angle(g, l, u)\n",
    "\n",
    "print(f'∫(f*g)(x)dx = {fg:.2f}')\n",
    "print(f'∫(f^2)(x)dx = {ff:.2f}')\n",
    "print(f'∫(g^2)(x)dx = {gg:.2f}')\n",
    "print(f'Angle in degrees = {angle:.0f}°')"
   ]
  },
  {
   "cell_type": "markdown",
   "metadata": {},
   "source": [
    "## Compute Function Norm\n",
    "\n",
    "Now compute the norm of function $f(x) = x^2 - 1$ over the domain $[0, 2]$."
   ]
  },
  {
   "cell_type": "code",
   "execution_count": 4,
   "metadata": {},
   "outputs": [
    {
     "name": "stdout",
     "output_type": "stream",
     "text": [
      "∥f∥₁ = 2.000\n",
      "∥f∥₂ = 1.751\n"
     ]
    }
   ],
   "source": [
    "l, u = 0, 2\n",
    "f = function(lambda x: x ** 2 - 1)\n",
    "\n",
    "print(f'∥f∥₁ = {f.norm(l, u, 1):.3f}')\n",
    "print(f'∥f∥₂ = {f.norm(l, u, 2):.3f}')"
   ]
  },
  {
   "cell_type": "markdown",
   "metadata": {},
   "source": [
    "## Compute function metrics"
   ]
  },
  {
   "cell_type": "code",
   "execution_count": 5,
   "metadata": {
    "scrolled": false
   },
   "outputs": [
    {
     "name": "stdout",
     "output_type": "stream",
     "text": [
      "∥f-g∥₁ = 0.883\n",
      "∥f-g∥₂ = 1.000\n"
     ]
    }
   ],
   "source": [
    "l, u = 0, 1\n",
    "\n",
    "f = function(lambda x: 5 + 5*x**2)\n",
    "g = function(lambda x: 4 + 10*x - 5*x**2)\n",
    "\n",
    "print(f'∥f-g∥₁ = {(f-g).norm(l, u, 1):.3f}')\n",
    "print(f'∥f-g∥₂ = {(f-g).norm(l, u, 2):.3f}')"
   ]
  },
  {
   "cell_type": "markdown",
   "metadata": {},
   "source": [
    "### Illustrate Function metrics"
   ]
  },
  {
   "cell_type": "code",
   "execution_count": 6,
   "metadata": {},
   "outputs": [
    {
     "data": {
      "text/plain": [
       "[<matplotlib.lines.Line2D at 0x23c63c32190>]"
      ]
     },
     "execution_count": 6,
     "metadata": {},
     "output_type": "execute_result"
    },
    {
     "data": {
      "image/png": "[encoded data removed]",
      "text/plain": [
       "<Figure size 432x288 with 1 Axes>"
      ]
     },
     "metadata": {},
     "output_type": "display_data"
    }
   ],
   "source": [
    "x = np.linspace(l,u,200)\n",
    "\n",
    "fig, ax = plt.subplots()\n",
    "ax.set(xlabel='x', \n",
    "       ylabel='|f(x)-g(x)|', \n",
    "       xlim=[0, 1], \n",
    "       ylim=[0, 1.6])\n",
    "plt.plot(x, (f-g).abs()(x))\n"
   ]
  },
  {
   "cell_type": "markdown",
   "metadata": {},
   "source": [
    "### Demonstrate Pythagorean Theorem\n",
    "\n",
    "Again, define the functions $f(x) = 2x^2-1$ and $g(x)= 4x^3-3x$, both over the domain $[-1,1]$. "
   ]
  },
  {
   "cell_type": "code",
   "execution_count": 7,
   "metadata": {
    "collapsed": true
   },
   "outputs": [],
   "source": [
    "l,u = -1, 1\n",
    "f = function(lambda x: 2 * x**2 - 1)\n",
    "g = function(lambda x: 4 * x**3 - 3*x)\n",
    "\n",
    "ifsq = (f**2).integral(l,u)\n",
    "igsq = (g**2).integral(l,u)\n",
    "ifplusgsq = ((f+g)**2).integral(l,u)"
   ]
  },
  {
   "cell_type": "code",
   "execution_count": 8,
   "metadata": {},
   "outputs": [
    {
     "name": "stdout",
     "output_type": "stream",
     "text": [
      "∫f²(x)dx = 0.9333\n",
      "∫g²(x)dx = 0.9714\n",
      "∫(f+g)²(x)dx = 1.9048\n"
     ]
    }
   ],
   "source": [
    "print(f'∫f²(x)dx = {ifsq:.4f}')\n",
    "print(f'∫g²(x)dx = {igsq:.4f}')\n",
    "print(f'∫(f+g)²(x)dx = {ifplusgsq:.4f}')"
   ]
  }
 ],
 "metadata": {
  "anaconda-cloud": {},
  "kernelspec": {
   "display_name": "Python 3.9.7 ('base')",
   "language": "python",
   "name": "python3"
  },
  "language_info": {
   "codemirror_mode": {
    "name": "ipython",
    "version": 3
   },
   "file_extension": ".py",
   "mimetype": "text/x-python",
   "name": "python",
   "nbconvert_exporter": "python",
   "pygments_lexer": "ipython3",
   "version": "3.9.7"
  },
  "vscode": {
   "interpreter": {
    "hash": "ad2bdc8ecc057115af97d19610ffacc2b4e99fae6737bb82f5d7fb13d2f2c186"
   }
  }
 },
 "nbformat": 4,
 "nbformat_minor": 1
}
