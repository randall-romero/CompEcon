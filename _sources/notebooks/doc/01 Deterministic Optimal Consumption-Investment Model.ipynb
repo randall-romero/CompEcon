{
 "cells": [
  {
   "cell_type": "markdown",
   "id": "0dd8b728-adca-4304-a066-31690f8abeb6",
   "metadata": {},
   "source": [
    "# Deterministic Optimal Consumption-Investment Model\n",
    "\n",
    "**Randall Romero Aguilar, PhD**\n",
    "\n",
    "This demo is based on the original Matlab demo accompanying the  <a href=\"https://mitpress.mit.edu/books/applied-computational-economics-and-finance\">Computational Economics and Finance</a> 2001 textbook by Mario Miranda and Paul Fackler.\n",
    "\n",
    "Original (Matlab) CompEcon file: **demdoc01.m**\n",
    "\n",
    "Running this file requires the Python version of CompEcon. This can be installed with pip by running\n",
    "\n",
    "    !pip install compecon --upgrade\n",
    "\n",
    "<i>Last updated: 2021-Oct-01</i>\n",
    "<hr>"
   ]
  },
  {
   "cell_type": "markdown",
   "source": [
    "## About\n",
    "\n",
    "Utility maximizing agent must decide how much to consume and how much to hold in a riskless asset.\n",
    "\n",
    "* State\n",
    "  -     w       stock of wealth\n",
    "* Control\n",
    "  -     q       consumption rate\n",
    "* Parameters\n",
    "  -     theta   relative risk aversion\n",
    "  -     r       continuous rate of return on asset\n",
    "  -     rho     continuous discount rate"
   ],
   "metadata": {
    "collapsed": false,
    "pycharm": {
     "name": "#%% md\n"
    }
   }
  },
  {
   "cell_type": "markdown",
   "id": "96caa3b4-6910-48ad-903e-2cb6cfd17a80",
   "metadata": {},
   "source": [
    "## Preliminary tasks"
   ]
  },
  {
   "cell_type": "code",
   "execution_count": 1,
   "id": "fd0c2767-10a4-4d35-8195-b54ad403e460",
   "metadata": {},
   "outputs": [],
   "source": [
    "import pandas as pd\n",
    "import matplotlib.pyplot as plt\n",
    "from compecon import ODE"
   ]
  },
  {
   "cell_type": "markdown",
   "id": "bddcfc74-6ec5-47ab-adc1-725760256516",
   "metadata": {},
   "source": [
    "## Initial state and time horizon"
   ]
  },
  {
   "cell_type": "code",
   "execution_count": 2,
   "id": "42d0e131-b5dc-459a-b65b-d379082b8e50",
   "metadata": {},
   "outputs": [],
   "source": [
    "winit = 1        # initial capital stock\n",
    "T     = 50       # time horizon"
   ]
  },
  {
   "cell_type": "markdown",
   "id": "edc91d5c-78e2-401b-8d6c-50182c2040a3",
   "metadata": {},
   "source": [
    "## SOLUTION & SIMULATION $r>\\rho$"
   ]
  },
  {
   "cell_type": "markdown",
   "id": "63a24800-63c2-4c1e-836b-250991087ef8",
   "metadata": {},
   "source": [
    "### Model parameters"
   ]
  },
  {
   "cell_type": "code",
   "execution_count": 3,
   "id": "276ac99b-ac57-4be5-9fc5-3affb3fc69c5",
   "metadata": {},
   "outputs": [],
   "source": [
    "𝜃 = 2.0    # relative risk aversion\n",
    "r = 0.08   # continuous rate of return on asset\n",
    "𝜌 = 0.05   # continuous discount rate"
   ]
  },
  {
   "cell_type": "code",
   "execution_count": 4,
   "id": "cd10cbb9-3789-45f7-9d54-fc8a6b4ac398",
   "metadata": {},
   "outputs": [],
   "source": [
    "# V'>0 iff V''<0 iff sign>0 where\n",
    "\n",
    "sign = 𝜌 - r*(1-𝜃)\n",
    "\n",
    "if sign<0:\n",
    "    print('Invalid Parameters')"
   ]
  },
  {
   "cell_type": "markdown",
   "id": "b649a251-fee0-4039-974d-962f9ed58096",
   "metadata": {},
   "source": [
    "### Solve ODE"
   ]
  },
  {
   "cell_type": "code",
   "execution_count": 5,
   "id": "df6c642b-c4f2-4e73-96d8-57d47abafbf0",
   "metadata": {},
   "outputs": [
    {
     "name": "stdout",
     "output_type": "stream",
     "text": [
      "PARAMETER xnames NO LONGER VALID. SET labels= AT OBJECT CREATION\n"
     ]
    }
   ],
   "source": [
    "g = lambda w: ((r-𝜌)/𝜃)*w\n",
    "\n",
    "problem1 = ODE(g, T, [winit])\n",
    "problem1.rk4(xnames=[r\"$r>\\rho$\"])"
   ]
  },
  {
   "cell_type": "markdown",
   "id": "fb4b79b8-42f0-4fc8-aabf-c91b76b124df",
   "metadata": {},
   "source": [
    "## SOLUTION & SIMULATION $r<\\rho$\n",
    "\n",
    "### Model Parameters"
   ]
  },
  {
   "cell_type": "code",
   "execution_count": 6,
   "id": "ffba8f4b-ecc6-4a49-9a1e-343ce6f5c54b",
   "metadata": {},
   "outputs": [],
   "source": [
    "𝜃 = 2.0    # relative risk aversion\n",
    "r = 0.05   # continuous rate of return on asset\n",
    "𝜌 = 0.08   # continuous discount rate"
   ]
  },
  {
   "cell_type": "code",
   "execution_count": 7,
   "id": "21e5aa02-e445-4342-abf4-eec818193939",
   "metadata": {},
   "outputs": [],
   "source": [
    "# Assume theta>0. Then V'>0 iff V''<0 iff sign>0 where\n",
    "sign = 𝜌 - r*(1-𝜃)\n",
    "\n",
    "if sign<0:\n",
    "    print('Invalid Parameters')"
   ]
  },
  {
   "cell_type": "markdown",
   "id": "b3b6106d-9ef2-4429-94a9-81006ad1fdef",
   "metadata": {},
   "source": [
    "### Solve ODE"
   ]
  },
  {
   "cell_type": "code",
   "execution_count": 8,
   "id": "27f3a35d-003a-4c6c-960f-e2e108559f64",
   "metadata": {},
   "outputs": [
    {
     "name": "stdout",
     "output_type": "stream",
     "text": [
      "PARAMETER xnames NO LONGER VALID. SET labels= AT OBJECT CREATION\n"
     ]
    }
   ],
   "source": [
    "g = lambda w: ((r-𝜌)/𝜃)*w\n",
    "\n",
    "problem2 = ODE(g, T, [winit])\n",
    "problem2.rk4(xnames=[r\"$r<\\rho$\"])"
   ]
  },
  {
   "cell_type": "markdown",
   "id": "03dfa7f0-a086-456e-9824-864507e7d1ee",
   "metadata": {},
   "source": [
    "## PLOT SOLUTIONS"
   ]
  },
  {
   "cell_type": "code",
   "execution_count": 9,
   "id": "0dbb5e3c-2e26-4777-8b30-339c7d0f7ca5",
   "metadata": {
    "pycharm": {
     "name": "#%%\n"
    }
   },
   "outputs": [
    {
     "data": {
      "text/plain": "<Figure size 576x288 with 1 Axes>",
      "image/png": "[encoded data removed]"
     },
     "metadata": {},
     "output_type": "display_data"
    }
   ],
   "source": [
    "# Plot optimal wealth path\n",
    "fig, ax= plt.subplots(figsize=[8,4])\n",
    "\n",
    "wealth = pd.concat([problem1.x, problem2.x], axis=1)\n",
    "wealth.plot(ax=ax)\n",
    "ax.set(title='Simulated Wealth',\n",
    "       xlabel='Time',\n",
    "       ylabel='Wealth');"
   ]
  }
 ],
 "metadata": {
  "kernelspec": {
   "display_name": "Python 3 (ipykernel)",
   "language": "python",
   "name": "python3"
  },
  "language_info": {
   "codemirror_mode": {
    "name": "ipython",
    "version": 3
   },
   "file_extension": ".py",
   "mimetype": "text/x-python",
   "name": "python",
   "nbconvert_exporter": "python",
   "pygments_lexer": "ipython3",
   "version": "3.8.8"
  }
 },
 "nbformat": 4,
 "nbformat_minor": 5
}